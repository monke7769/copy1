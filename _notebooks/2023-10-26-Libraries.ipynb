{
 "cells": [
  {
   "cell_type": "markdown",
   "metadata": {},
   "source": [
    "---\n",
    "layout: post\n",
    "title: 3.14 homework\n",
    "description: Libraries\n",
    "comments: true\n",
    "permalink: /314\n",
    "author: Hayden Chen\n",
    "courses: { compsci: {week: 10} }\n",
    "type: tangibles\n",
    "---"
   ]
  },
  {
   "cell_type": "markdown",
   "metadata": {},
   "source": [
    "# Problem 1\n",
    "3 Python libraries\n",
    "\n",
    "## Turtle (good for making drawings/graphics)\n",
    "\n",
    "turtle.forward() moves the turtle forward by a specific amount\n",
    "turtle.pendown() puts down the turtle's pen so it can draw along its path\n",
    "\n",
    "## Beautiful Soup (good for web scraping)\n",
    "\n",
    "from bs4 import BeautifulSoup\n",
    "soup = BeautifulSoup(html_doc, 'html.parser') # grabs data and represents it as a nested data structure\n",
    "\n",
    "soup.title # outputs <title>My very bad day</title>\n",
    "soup.p # outputs <p>Not good</p>\n",
    "\n",
    "## Pyjokes (generate jokes)\n",
    "\n",
    "myjoke = pyjokes.get_joke(language=\"en\", category=\"neutral\")\n",
    "language parameter specifies the language of the joke, and category specificies which category of the joke you want (neutral, twister, all)"
   ]
  },
  {
   "cell_type": "markdown",
   "metadata": {},
   "source": [
    "# Problem 2\n",
    "Research an API\n",
    "\n",
    "random.org API\n",
    "This API is unique in that it can generate random numbers within a specified range. It is free to use (1000 times per key) and is very useful for game development involving random numbers. \n",
    "\n",
    "In a cryptography setting, one could use such an API to generate key values for decryption using the Ceasar Cipher, among many other hashing algorithms such as RSA."
   ]
  },
  {
   "cell_type": "markdown",
   "metadata": {},
   "source": [
    "# Problem 3\n",
    "import a data manipulation library\n",
    "use a prefixed function and prefixed variable, w/ comments"
   ]
  },
  {
   "cell_type": "code",
   "execution_count": 3,
   "metadata": {},
   "outputs": [
    {
     "name": "stdout",
     "output_type": "stream",
     "text": [
      "0     1\n",
      "1     2\n",
      "2     8\n",
      "3     9\n",
      "4    10\n",
      "dtype: int64\n",
      "6.0\n"
     ]
    }
   ],
   "source": [
    "import pandas as p # we will use pandas library, assign it prefix p\n",
    "\n",
    "p_var = p.Series([1,2,8,9,10]) # create pandas series with prefix p\n",
    "p_result = p_var.mean() # use a prefixed function, mean (from the pandas library)\n",
    "print(p_var) # original series\n",
    "print(p_result) # mean calculated by the mean function from pandas library"
   ]
  }
 ],
 "metadata": {
  "kernelspec": {
   "display_name": "Python 3",
   "language": "python",
   "name": "python3"
  },
  "language_info": {
   "codemirror_mode": {
    "name": "ipython",
    "version": 3
   },
   "file_extension": ".py",
   "mimetype": "text/x-python",
   "name": "python",
   "nbconvert_exporter": "python",
   "pygments_lexer": "ipython3",
   "version": "3.11.4"
  },
  "orig_nbformat": 4
 },
 "nbformat": 4,
 "nbformat_minor": 2
}
