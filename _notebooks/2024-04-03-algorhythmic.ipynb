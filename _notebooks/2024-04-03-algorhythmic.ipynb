{
 "cells": [
  {
   "cell_type": "markdown",
   "metadata": {},
   "source": [
    "---\n",
    "comments: true\n",
    "layout: post\n",
    "title: Algorhythmic\n",
    "description: Learning and performance notes :)\n",
    "type: tangibles\n",
    "courses: { compsci: {week: 29} }\n",
    "---"
   ]
  },
  {
   "cell_type": "markdown",
   "metadata": {},
   "source": [
    "# Types of sorting\n",
    "\n",
    "## Insertion sort\n",
    "\n",
    "- We use it in our daily lives and is very practical and easy to implement. However, the insertion sort is somewhat inaccurate first try.\n",
    "- Sorting by comparison, and insertion of elements, based on adjacent elements. However, multiple passes are necessary to make sure the whole the list is sorted. \n",
    "Time complexity:\n",
    "- worst case scenario O(N^2)\n",
    "- best case scenario O(1)\n",
    "\n",
    "9/10 Great Career Potential\n",
    "\n",
    "## Quicksort\n",
    "\n",
    "- Sorting by \"pivot\". The pivot finds its position along the line, this splits the array into two. Then quicksort is called recursively and the resulting subarrays are also sorted by quicksort.\n",
    "Time complexity:\n",
    "- O(NlogN)\n",
    "\n",
    "9/10 very good use of music throughout\n",
    "\n",
    "## Bubble sort\n",
    "\n",
    "- Swap adjacent elements only, so very slow and not practical\n",
    "- bad time complexity of O(N) best and O(N^2) worst. requires a few passes\n",
    "\n",
    "10/10 effective usage of pair programming and well-explained and creative. pick-up lines were on-point\n",
    "\n",
    "## Merge sort\n",
    "\n",
    "- Time complexity O(NlogN)\n",
    "- Split arrays into groups of 2. Then sort each group, then combine sort each time multiplying size by 2 (4, 8, 16, ...)\n",
    "\n",
    "9/10 Great sorting, though complicated sort and somewhat muddled in the group sort\n",
    "\n",
    "## Selection sort\n",
    "\n",
    "- Move through the list, and select the smallest value to swap with the front. \n",
    "- O(N^2) always\n",
    "\n",
    "10/10 Great murder mystery and acting"
   ]
  }
 ],
 "metadata": {
  "language_info": {
   "name": "python"
  },
  "orig_nbformat": 4
 },
 "nbformat": 4,
 "nbformat_minor": 2
}
