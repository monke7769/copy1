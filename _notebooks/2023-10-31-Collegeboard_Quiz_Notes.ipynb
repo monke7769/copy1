{
 "cells": [
  {
   "cell_type": "markdown",
   "metadata": {},
   "source": [
    "---\n",
    "layout: post\n",
    "title: Quiz Notes\n",
    "description: Notes/research during the collegboard quiz\n",
    "type: hacks\n",
    "author: Hayden Chen\n",
    "comments: true\n",
    "courses: { compsci: {week: 11} }\n",
    "---"
   ]
  },
  {
   "cell_type": "markdown",
   "metadata": {},
   "source": [
    "Citizen science: the collection and analysis of data relating to the natural world by members of the general public, typically as part of a collaborative project with professional scientists.\n",
    "\n",
    "Internet Engineering Task Force (IETF): They develop standards and protocols for Internet communication. IETF publishes RFCs authored by network operators, engineers, and computer scientists to document methods, behaviors, research, or innovations. Founded in 1986.\n",
    "\n",
    "Every device connected to the Internet is assigned an Internet protocol (IP) address.\n",
    "\n",
    "DMCA: The Digital Millennium Copyright Act is a 1998 United States copyright law that implements two 1996 treaties of the World Intellectual Property Organization. It criminalizes production and dissemination of technology, devices, or services intended to circumvent measures that control access to copyrighted works.\n",
    "\n",
    "To minimize the risk of getting a copyright violation when creating sample-based music, we can use samples published with a no-rights-reserved Creative Commons license.\n",
    "\n",
    "Internet enabled crowdsourcing: the practice of obtaining information or input into a task or project by enlisting the services of a large number of people, either paid or unpaid, typically via the internet.\n",
    "\n",
    "I. The Internet can provide crowdsourcing participants access to useful tools, information, and professional knowledge.\n",
    "\n",
    "II. The speed and reach of the Internet can lower geographic barriers, allowing individuals from different locations to contribute to projects.\n",
    "\n",
    "Cloud computing: the practice of using a network of remote servers hosted on the internet to store, manage, and process data, rather than a local server or a personal computer.\n",
    "\n",
    "Basically, cloud computing is putting everything on the web so that others can access \"in the cloud\" and not just on your own computer."
   ]
  }
 ],
 "metadata": {
  "language_info": {
   "name": "python"
  },
  "orig_nbformat": 4
 },
 "nbformat": 4,
 "nbformat_minor": 2
}
