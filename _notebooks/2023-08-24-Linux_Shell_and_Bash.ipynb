{
 "cells": [
  {
   "cell_type": "markdown",
   "metadata": {},
   "source": [
    "---\n",
    "layout: post\n",
    "title: Linux Shell/Bash commands\n",
    "description: Me simping for Linux Commands\n",
    "toc: true\n",
    "comments: true\n",
    "categories: [5.A, C4.1]\n",
    "type: hacks\n",
    "courses: { compsci: {week: 1} }\n",
    "---\n"
   ]
  },
  {
   "cell_type": "markdown",
   "metadata": {},
   "source": [
    "### Linux commands\n",
    "\n",
    "which - lists path to command binary\n",
    "\n",
    "ls - list directory contents\n",
    "\n",
    "cd - change directory\n",
    "\n",
    "git - github command, git pull, git push, and git commit included\n",
    "\n",
    "code - vscode editing\n",
    "\n",
    "wsl - wsl command\n",
    "\n",
    "apt - package managing command\n",
    "\n",
    "grep - keyword searching command\n",
    "\n",
    "echo - return command\n",
    "\n",
    "find - find files on the system\n",
    "\n",
    "cat - list contents of a file\n",
    "\n",
    "mkdir - make new directory in the current folder"
   ]
  }
 ],
 "metadata": {
  "language_info": {
   "name": "python"
  },
  "orig_nbformat": 4
 },
 "nbformat": 4,
 "nbformat_minor": 2
}
