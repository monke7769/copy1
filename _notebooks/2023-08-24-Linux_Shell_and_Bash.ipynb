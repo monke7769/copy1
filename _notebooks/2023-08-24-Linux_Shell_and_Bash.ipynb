{
 "cells": [
  {
   "cell_type": "markdown",
   "metadata": {},
   "source": [
    "---\n",
    "layout: post\n",
    "title: Linux Shell/Bash useful commands\n",
    "description: Me simping for Linux Commands\n",
    "toc: true\n",
    "comments: true\n",
    "categories: [5.A, C4.1]\n",
    "type: hacks\n",
    "courses: { compsci: {week: 1} }\n",
    "---\n"
   ]
  },
  {
   "cell_type": "markdown",
   "metadata": {},
   "source": [
    "### Linux commands\n",
    "\n",
    "which - lists path to command binary\n",
    "ls - list directory contents\n",
    "cd - change directory\n",
    "git - github command, git pull, git push, and git commit included\n",
    "code - vscode editing\n",
    "wsl - wsl command\n",
    "apt - package managing command\n",
    "grep - keyword searching command\n",
    "echo - return command\n",
    "find - find files on the system\n",
    "cat - list contents of a file\n",
    "mkdir - make new directory in the current folder"
   ]
  }
 ],
 "metadata": {
  "language_info": {
   "name": "python"
  },
  "orig_nbformat": 4
 },
 "nbformat": 4,
 "nbformat_minor": 2
}
