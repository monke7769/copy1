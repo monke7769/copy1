{
 "cells": [
  {
   "cell_type": "markdown",
   "metadata": {},
   "source": [
    "---\n",
    "comments: true\n",
    "layout: post\n",
    "title: Nighthawk Coders Summer Internship Project Plans\n",
    "description: Plans for the AP Exam Score Predictor ML model\n",
    "type: tangibles\n",
    "courses: { compsci: {week: 31} }\n",
    "---"
   ]
  },
  {
   "cell_type": "markdown",
   "metadata": {},
   "source": [
    "## Goal: create a Machine Learning model for the purpose of predicting score outcomes on any CollegeBoard AP exam given that they have taken the course at school.\n",
    "\n",
    "The target users are the set of all US high school students. They will need to be able to enter their information through the Frontend UI.\n",
    "\n",
    "## The data\n",
    "\n",
    "Categories of factors to be taken into consideration within the ML Algorithm:\n",
    "\n",
    "### Personal details\n",
    "\n",
    "- Grade (9, 10, 11, 12)\n",
    "- UW GPA (0-4)\n",
    "\n",
    "### Work Experience\n",
    "\n",
    "- What fields they have had internships in (from the below)\n",
    "\n",
    "[![Screenshot-2024-06-02-at-10-02-03-PM.png](https://i.postimg.cc/KvCRtdKD/Screenshot-2024-06-02-at-10-02-03-PM.png)](https://postimg.cc/6yLWXbf8)\n",
    "\n",
    "- What fields they've held permanent job positions in (from the above)\n",
    "- Number of hours of work per week\n",
    "\n",
    "### Study & Work Habits\n",
    "\n",
    "- Hours of sleep per night (0-24)\n",
    "- Percentage of homework completion in the school course (0-100)\n",
    "- Cram or not (yes, no, sort of)\n",
    "- Average hours of active studying for the subject per day (0-24)\n",
    "- Weeks of active preparation prior to test (>0)\n",
    "- Average hours of video games per day during week leading up to test (0-24)\n",
    "\n",
    "### Family Background\n",
    "\n",
    "- What fields that at least one of their parents have high school tier or above knowledge in (refer to above list in screenshot)\n",
    "\n",
    "## Google Form to collect training data\n",
    "\n",
    "The target respondents are high schoolers across the US who have taken at least one AP exam before. Since the model will be built to predict AP scores for students who have taken the course at school, the training data must be collected only from students in this situation.\n",
    "\n",
    "The form has already been made: https://forms.gle/yBy4X9Try2UTSLo47 \n",
    "\n",
    "It is completely anonymous."
   ]
  }
 ],
 "metadata": {
  "language_info": {
   "name": "python"
  },
  "orig_nbformat": 4
 },
 "nbformat": 4,
 "nbformat_minor": 2
}
