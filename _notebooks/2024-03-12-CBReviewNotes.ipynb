{
 "cells": [
  {
   "cell_type": "markdown",
   "metadata": {},
   "source": [
    "---\n",
    "toc: false\n",
    "comments: true\n",
    "layout: post\n",
    "title: CB Review\n",
    "description: notes\n",
    "type: hacks\n",
    "courses: { compsci: {week: 25} }\n",
    "---"
   ]
  },
  {
   "cell_type": "markdown",
   "metadata": {},
   "source": [
    "# Python overflow.\n",
    "\n",
    "when you try to store a number too big in python, the integer overflows (since it has over the max amount of binary bits stored). Then it stores it as undefined and returns some sort of error message -- overflow, because it has reached the maximum amount of storage size.\n",
    "\n",
    "(underflow note: 00000000 - 1 -> 255)\n",
    "\n",
    "# Logic circuits.\n",
    "\n",
    "AND: True if both True\n",
    "OR: True if at least one is True\n",
    "XOR: True is different\n",
    "NAND/NOR/XOR: NOT(AND/OR/XOR)\n",
    "\n",
    "ACSL moment\n",
    "\n",
    "# RGB values\n",
    "\n",
    "Red 00000000-11111111\n",
    "\n",
    "Green 00000000-11111111\n",
    "\n",
    "Blue 00000000-11111111\n",
    "\n",
    "Combine these to get the whole color spectrum\n",
    "\n",
    "# O(N)\n",
    "\n",
    "USACO xD\n",
    "\n",
    "CB defines reasonable time with \"polynomial time\"\n",
    "\n",
    "How long it takes to run\n",
    "\n",
    "# String concatenation!\n",
    "\n",
    "Yes\n",
    "\n"
   ]
  }
 ],
 "metadata": {
  "language_info": {
   "name": "python"
  },
  "orig_nbformat": 4
 },
 "nbformat": 4,
 "nbformat_minor": 2
}
