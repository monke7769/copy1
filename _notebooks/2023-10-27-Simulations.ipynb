{
 "cells": [
  {
   "cell_type": "markdown",
   "metadata": {},
   "source": [
    "---\n",
    "layout: post\n",
    "title: 3.16 & 3.17 homework\n",
    "description: Simulations\n",
    "comments: true\n",
    "permalink: /316317\n",
    "author: Hayden Chen\n",
    "courses: { compsci: {week: 10} }\n",
    "type: tangibles\n",
    "---"
   ]
  },
  {
   "cell_type": "markdown",
   "metadata": {},
   "source": [
    "# Problem 1\n",
    "sort 4 numbers from lowest to highest"
   ]
  },
  {
   "cell_type": "code",
   "execution_count": 3,
   "metadata": {},
   "outputs": [
    {
     "name": "stdout",
     "output_type": "stream",
     "text": [
      "[1, 2, 3, 4]\n"
     ]
    }
   ],
   "source": [
    "nums = [4,1,3,2] # 4 numbers\n",
    "for i in range(len(nums)-1): # looping w/ two variables\n",
    "    for j in range(i+1,len(nums)): # i,j indices where i < j\n",
    "        if nums[i] > nums[j]: # if the left element is greater than the right element, swap them\n",
    "            a = nums[i] # have to make a copy since we are rewriting nums[i]\n",
    "            nums[i] = nums[j] # swap\n",
    "            nums[j] = a # make nums[j] the copy\n",
    "print(nums)\n",
    "\n",
    "# overall not that efficient of an algorithm\n",
    "# runs in O(N^2) time, but for a 4-element list this is just fine\n"
   ]
  },
  {
   "cell_type": "markdown",
   "metadata": {},
   "source": [
    "# Problem 2\n",
    "Benefits of simulations:\n",
    "- Much less expensive than actually conducting the experiments\n",
    "- Easier to repeat \n",
    "- Safer to conduct\n",
    "\n",
    "Drawback of simulations:\n",
    "\n",
    "Simulations only provide estimated results from models, so conduct experiments will still produce the more accurate results."
   ]
  },
  {
   "cell_type": "markdown",
   "metadata": {},
   "source": [
    "# Problem 3\n",
    "Take for example the YouTube algorithm (obvious but good example). Such algorithms will take data from user browsing on their websites, such as what videos they watch, how long they watch, what videos are related to what other videos, and what they search. All of these factors will go into consideration in the algorithm to recommend the user other things that they may take interest in and engage them for longer browsing sessions."
   ]
  }
 ],
 "metadata": {
  "kernelspec": {
   "display_name": "Python 3",
   "language": "python",
   "name": "python3"
  },
  "language_info": {
   "codemirror_mode": {
    "name": "ipython",
    "version": 3
   },
   "file_extension": ".py",
   "mimetype": "text/x-python",
   "name": "python",
   "nbconvert_exporter": "python",
   "pygments_lexer": "ipython3",
   "version": "3.11.4"
  },
  "orig_nbformat": 4
 },
 "nbformat": 4,
 "nbformat_minor": 2
}
