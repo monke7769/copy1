{
 "cells": [
  {
   "cell_type": "markdown",
   "metadata": {},
   "source": [
    "---\n",
    "comments: true\n",
    "layout: post\n",
    "title: Deployment Notes\n",
    "description: Learning and performance notes :)\n",
    "type: tangibles\n",
    "courses: { compsci: {week: 30} }\n",
    "---"
   ]
  },
  {
   "cell_type": "markdown",
   "metadata": {},
   "source": [
    "Below are the requirements/suggestions for a deployed data strcutures project. Currently, we have almost deployed but need to figure out how to get torch running (since it takes a million years to install)\n",
    "\n",
    "# JavaScript Fetch, URI:\n",
    "\n",
    "The project must manage the switch between development and deployment URI access for frontend requests. This is achieved by including the assets/js/config.js file in the teacher_portfolio project. This file should be referenced whenever a URL endpoint fetch is performed.\n",
    "\n",
    "# JavaScript Fetch, Credentials, and Cookies:\n",
    "\n",
    "The project’s APIs must consistently handle authorization options. This involves setting the fetch mode to ‘cors’ and including credentials in the fetch options. This setup enables cookies to be passed between the frontend and backend during requests, facilitating user authentication and session management. These options are defined by including the assets/js/config.js as well.\n",
    "\n",
    "# Nginx, Credentials, and Cookies:\n",
    "\n",
    "For deployment and cookie handling, the project’s authorization credentials need to be defined in the Nginx configuration. This is done by setting the Access-Control-Allow-Credentials directive in the /etc/nginx/sites-available application configuration file.\n",
    "\n",
    "# Nginx and CORS:\n",
    "\n",
    "For deployment, CORS policies need to be configured in Nginx. This involves setting the Access-Control-Allow-Origin directive in the /etc/nginx/sites-available application configuration file.\n",
    "\n",
    "# Nginx and HTTP Methods:\n",
    "\n",
    "For deployment, the HTTP methods (GET, POST, PUT, DELETE) that the application uses need to be allowed in the Nginx configuration. This is done by setting the Access-Control-Allow-Method directive in the /etc/nginx/sites-available application configuration file.\n",
    "\n",
    "# Python, CORS:\n",
    "\n",
    "For both localhost development and deployment, the project needs to consider Cross-Origin Resource Sharing (CORS). The CORS policies should be built into the Python code, specifically in your __init__.py file. This setup allows the necessary access between your frontend and backend, supporting both development and deployment environments. Note, remove similar code from main.py if you picked up an old version from Teacher.\n",
    "\n",
    "# Python, instance data:\n",
    "\n",
    "In your __init__.py file, you need to configure the settings for your database and uploads. These settings should ensure that data and files persist outside of the Docker container. If not correctly configured, any data stored in the database or any files uploaded will be lost when the Docker container is stopped.\n",
    "\n",
    "# Python, authentication and authorization:\n",
    "\n",
    "In this implementation, the decorator @token_required is used to guard HTTP endpoints. This uses the allowed credentials which send the cookie to the application. The application unwraps the cookie and uses the user id to query and return the user object from the database. The user object can be used in the application logic of the API to identify the request to the owner.\n",
    "\n",
    "# Python, CSRF:\n",
    "\n",
    "When deploying your server, it’s crucial to manage secret keys for CSRF (Cross-Site Request Forgery) __init__.py file. This secret key is used to generate unique tokens that help protect your application against CSRF attacks.\n",
    "\n",
    "# Certbot, HTTPS:\n",
    "\n",
    "For deployment security, using HTTPS is crucial to prevent sensitive information from being intercepted over the internet. Certbot is the tool of choice used in this project to automate the process of obtaining and installing SSL/TLS certificates. Running sudo certbot --nginx will modify the Nginx configuration to redirect HTTP requests to HTTPS, enhancing the security of your application. It’s important to note that this step is vital for maintaining the integrity and confidentiality of data in transit. Always verify the configuration change after running the command.\n",
    "\n"
   ]
  }
 ],
 "metadata": {
  "language_info": {
   "name": "python"
  },
  "orig_nbformat": 4
 },
 "nbformat": 4,
 "nbformat_minor": 2
}
