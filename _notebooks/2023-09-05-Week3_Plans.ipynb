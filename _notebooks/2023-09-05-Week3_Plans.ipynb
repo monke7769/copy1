{
 "cells": [
  {
   "cell_type": "markdown",
   "metadata": {},
   "source": [
    "---\n",
    "layout: post\n",
    "title: Week 3 plans\n",
    "description: For the pair review to be held the end of the week.\n",
    "author: Hayden Chen\n",
    "toc: true\n",
    "comments: true\n",
    "categories: [5.A, C4.1]\n",
    "courses: { compsci: {week: 3} }\n",
    "type: plans\n",
    "---"
   ]
  }
 ],
 "metadata": {
  "language_info": {
   "name": "python"
  },
  "orig_nbformat": 4
 },
 "nbformat": 4,
 "nbformat_minor": 2
}
