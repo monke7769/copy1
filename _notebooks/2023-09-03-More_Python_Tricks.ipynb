{
 "cells": [
  {
   "cell_type": "markdown",
   "metadata": {},
   "source": [
    "---\n",
    "title: More Python Tricks!\n",
    "toc: true\n",
    "description: More Python Tricks. Complete with games such as Wordle.\n",
    "courses: { compsci: {week: 3} }\n",
    "type: tangibles\n",
    "---"
   ]
  },
  {
   "cell_type": "markdown",
   "metadata": {},
   "source": [
    "### Totally crazy Wikipedia scraper/information finder\n",
    "\n",
    "User inputs as many keywords as they want and the python program searches Wikipedia for these keywords and summarizes them as output."
   ]
  },
  {
   "cell_type": "code",
   "execution_count": null,
   "metadata": {},
   "outputs": [],
   "source": [
    "#!pip install wikipedia\n",
    "import wikipedia \n",
    "from IPython.display import display, Markdown # add for Jupyter\n",
    "\n",
    "ks = []\n",
    "print(\"Enter inputs to search for. To quit, enter 'no'.\")\n",
    "thing = 'yes' # initialize thing\n",
    "while thing.lower() != 'no':\n",
    "    thing = input()\n",
    "    if thing == 'no': # don't search for 'no'\n",
    "        break\n",
    "    ks.append(thing)\n",
    "for keyword in ks:\n",
    "    # Search for a page with user-given keyword\n",
    "    result = wikipedia.search(keyword)\n",
    "    # Get the summary of the first result\n",
    "    summary = wikipedia.summary(result[0])\n",
    "    print(keyword) \n",
    "    # print(summary) # console display\n",
    "    display(Markdown(summary)) # Jupyter display"
   ]
  },
  {
   "cell_type": "markdown",
   "metadata": {},
   "source": [
    "### Wordle game!\n",
    "\n",
    "Python game inspired by the popular NYTimes web word-guessing game."
   ]
  }
 ],
 "metadata": {
  "language_info": {
   "name": "python"
  },
  "orig_nbformat": 4
 },
 "nbformat": 4,
 "nbformat_minor": 2
}
