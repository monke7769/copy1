{
 "cells": [
  {
   "cell_type": "markdown",
   "metadata": {},
   "source": [
    "---\n",
    "title: Week 3 Pair Showcase\n",
    "toc: true\n",
    "description: The week 3 pair showcase\n",
    "courses: { compsci: {week: 3} }\n",
    "type: tangibles\n",
    "---"
   ]
  },
  {
   "cell_type": "markdown",
   "metadata": {},
   "source": [
    "![](https://wiki-images.artofproblemsolving.com//9/9e/Pairshowcasewebscrape.png)"
   ]
  },
  {
   "cell_type": "markdown",
   "metadata": {},
   "source": [
    "### Totally crazy Wikipedia information search\n",
    "\n",
    "User inputs as many keywords as they want and the python program searches Wikipedia for these keywords and summarizes them as output."
   ]
  },
  {
   "cell_type": "code",
   "execution_count": 1,
   "metadata": {},
   "outputs": [
    {
     "name": "stdout",
     "output_type": "stream",
     "text": [
      "Enter inputs to search for. To quit, enter 'no'.\n",
      "Bach\n"
     ]
    },
    {
     "data": {
      "text/markdown": [
       "Johann Sebastian Bach (31 March [O.S. 21 March] 1685 – 28 July 1750) was a German composer and musician of the late Baroque period. He is known for his orchestral music such as the Brandenburg Concertos; instrumental compositions such as the Cello Suites; keyboard works such as the Goldberg Variations and The Well-Tempered Clavier; organ works such as the Schubler Chorales and the Toccata and Fugue in D minor; and vocal music such as the St Matthew Passion and the Mass in B minor. Since the 19th-century Bach revival he has been generally regarded as one of the greatest composers in the history of Western music.The Bach family already counted several composers when Johann Sebastian was born as the last child of a city musician, Johann Ambrosius, in Eisenach. After being orphaned at the age of 10, he lived for five years with his eldest brother Johann Christoph, after which he continued his musical education in Lüneburg. From 1703 he was back in Thuringia, working as a musician for Protestant churches in Arnstadt and Mühlhausen and, for longer stretches of time, at courts in Weimar, where he expanded his organ repertory, and Köthen, where he was mostly engaged with chamber music. From 1723, he was employed as Thomaskantor (cantor at St Thomas's) in Leipzig. There he composed music for the principal Lutheran churches of the city, and for its university's student ensemble Collegium Musicum. From 1726, he published some of his keyboard and organ music. In Leipzig, as had happened during some of his earlier positions, he had difficult relations with his employer, a situation that was little remedied when he was granted the title of court composer by his sovereign, Augustus III of Poland, in 1736. In the last decades of his life, he reworked and extended many of his earlier compositions. He died of complications after eye surgery in 1750 at the age of 65.\n",
       "Bach enriched established German styles through his mastery of counterpoint, harmonic, and motivic organisation, and his adaptation of rhythms, forms, and textures from abroad, particularly from Italy and France. Bach's compositions include hundreds of cantatas, both sacred and secular. He composed Latin church music, Passions, oratorios, and motets. He often adopted Lutheran hymns, not only in his larger vocal works, but for instance also in his four-part chorales and his sacred songs. He wrote extensively for organ and for other keyboard instruments. He composed concertos, for instance for violin and for harpsichord, and suites, as chamber music as well as for orchestra. Many of his works employ the genres of canon and fugue.\n",
       "Throughout the 18th century, Bach was primarily valued as an organist, while his keyboard music, such as The Well-Tempered Clavier, was appreciated for its didactic qualities. The 19th century saw the publication of some major Bach biographies, and by the end of that century all of his known music had been printed. Dissemination of scholarship on the composer continued through periodicals (and later also websites) exclusively devoted to him, and other publications such as the Bach-Werke-Verzeichnis (BWV, a numbered catalogue of his works) and new critical editions of his compositions. His music was further popularised through a multitude of arrangements, including the Air on the G String and \"Jesu, Joy of Man's Desiring\", and of recordings, such as three different box sets with complete performances of the composer's oeuvre marking the 250th anniversary of his death."
      ],
      "text/plain": [
       "<IPython.core.display.Markdown object>"
      ]
     },
     "metadata": {},
     "output_type": "display_data"
    }
   ],
   "source": [
    "#!pip install wikipedia\n",
    "import wikipedia \n",
    "from IPython.display import display, Markdown # add for Jupyter\n",
    "\n",
    "ks = []\n",
    "print(\"Enter inputs to search for. To quit, enter 'no'.\")\n",
    "thing = 'yes' # initialize thing\n",
    "while thing.lower() != 'no':\n",
    "    thing = input()\n",
    "    if thing == 'no': # don't search for 'no'\n",
    "        break\n",
    "    ks.append(thing)\n",
    "for keyword in ks:\n",
    "    # Search for a page with user-given keyword\n",
    "    result = wikipedia.search(keyword)\n",
    "    # Get the summary of the first result\n",
    "    summary = wikipedia.summary(result[0])\n",
    "    print(keyword) \n",
    "    # print(summary) # console display\n",
    "    display(Markdown(summary)) # Jupyter display"
   ]
  }
 ],
 "metadata": {
  "kernelspec": {
   "display_name": "Python 3",
   "language": "python",
   "name": "python3"
  },
  "language_info": {
   "codemirror_mode": {
    "name": "ipython",
    "version": 3
   },
   "file_extension": ".py",
   "mimetype": "text/x-python",
   "name": "python",
   "nbconvert_exporter": "python",
   "pygments_lexer": "ipython3",
   "version": "3.11.4"
  },
  "orig_nbformat": 4
 },
 "nbformat": 4,
 "nbformat_minor": 2
}
