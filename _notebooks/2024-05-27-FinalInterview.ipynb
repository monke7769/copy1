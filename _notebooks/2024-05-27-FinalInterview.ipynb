{
 "cells": [
  {
   "cell_type": "markdown",
   "metadata": {},
   "source": [
    "---\n",
    "comments: true\n",
    "layout: post\n",
    "title: Final Interview\n",
    "description: Hayden Chen's Final Interview\n",
    "type: tangibles\n",
    "courses: { compsci: {week: 31} }\n",
    "---"
   ]
  },
  {
   "cell_type": "markdown",
   "metadata": {},
   "source": [
    "# Introduction\n",
    "\n",
    "My key interests lie in algorithmic programming and mathematical/data analysis. Coding plays directly into algorithmic programming (implementation of efficient algorithms) while AI (machine learning) models can be programmed to analyze large datasets to make predictions, perhaps an example would be stock predictions. Another potential project idea or point of research is to build AI to solve complex multi-step math problems (such as those found on the AIME).\n",
    "\n",
    "Machine Learning has really piqued my interest this year and I hope to continue working with it in practical applications. An AP course/exam success predictor sounds like a very interesting point of work, and I think the conditions taken into consideration might include screen time, sleep hours, study session density (distractions?), GPA, other relevant class grades, etc.\n",
    "\n",
    "# Projects ADD IMAGES LATER\n",
    "\n",
    "1st Trimester: \n",
    "\n",
    "- Cipher Hijinks -- Encryption and Decryption algorithms Wiki\n",
    "\n",
    "2nd Trimester: \n",
    "\n",
    "- Binary project -- Colors RGB Visualization, Image Bitwise operations\n",
    "\n",
    "- Buttonify (Button designer website/fake Wixsite) -- SQLite DB with user information and saved button designs\n",
    "\n",
    "3rd Trimester:\n",
    "\n",
    "- Integrated & Deployed project -- Concussion Recovery Time predictor, Concussion Recovery Suggestions algorithmic programming, Titanic ML\n",
    "\n",
    "Teamwork consisted mainly of ideation for the first couple days, work division, then project work for the next few weeks with check-ins every class period.\n",
    "\n",
    "In the 1st and 2nd Trimesters, my teammates and I divided up the project work into frontend/backend pairs. I mostly worked on the Frontend portions, the first trimester with Jupyter Notebooks and second trimester with raw JavaScript/HTML.\n",
    "\n",
    "As a result, I had little to no knowledge of backend operations at the beginning of the third trimester. Especially with a concussed partner, I had to pick it up very quickly. I have focused on and familiarized myself with Flask Server/API operations and ML for this trimester while my partner worked on gathering user input on the frontend.\n",
    "\n",
    "Even though the work was technically divided up among team members in our plans, we always collaborated on issues and tackled errors as a team. Whenever one person got stuck, another would step in and lend any expertise that they had to try to fix the issues. In this way, our teams have always functioned well and finished projects and executed plans on schedule."
   ]
  }
 ],
 "metadata": {
  "language_info": {
   "name": "python"
  },
  "orig_nbformat": 4
 },
 "nbformat": 4,
 "nbformat_minor": 2
}
