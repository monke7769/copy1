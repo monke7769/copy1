{
 "cells": [
  {
   "cell_type": "markdown",
   "metadata": {},
   "source": [
    "%%html\n",
    "\n",
    "<html>\n",
    "<head>\n",
    "    <meta name=\"viewport\" content=\"width=device-width, initial-scale=1.0\">\n",
    "    <title>Login Shell</title>\n",
    "    <style>\n",
    "        body {\n",
    "            font-family: FreeMono, monospace;\n",
    "            text-align: left;\n",
    "        }\n",
    "        #login-box {\n",
    "            max-width: 300px;\n",
    "            margin: 0 auto;\n",
    "            padding: 10px;\n",
    "            border: 1px solid #ccc;\n",
    "            border-radius: 10px;\n",
    "        }\n",
    "        input[type=\"text\"], input[type=\"password\"] {\n",
    "            width: 100%\n",
    "            padding: 10px;\n",
    "            margin: 10px 0;\n",
    "        }\n",
    "    </style>\n",
    "</head>\n",
    "</html>"
   ]
  }
 ],
 "metadata": {
  "language_info": {
   "name": "python"
  },
  "orig_nbformat": 4
 },
 "nbformat": 4,
 "nbformat_minor": 2
}
