{
 "cells": [
  {
   "cell_type": "markdown",
   "metadata": {},
   "source": [
    "---\n",
    "toc: false\n",
    "comments: true\n",
    "layout: post\n",
    "title: Individual Review Pt 2\n",
    "description: progress so far this trimester\n",
    "type: tangibles\n",
    "courses: { compsci: {week: 17} }\n",
    "---"
   ]
  },
  {
   "cell_type": "markdown",
   "metadata": {},
   "source": [
    "In the first half of the trimester, I have been mainly preoccupied with development and progress of our team's binary CPT project.\n",
    "In this project, I mainly worked on the Colors AND portion of the project, focusing on getting familiar with the CSS and styling portions of the project in addition to building my computer logic and thinking skills. The part I'm most proud of is the code containing the logic for handling clicking buttons, which is very JS-intensive and contains a lot of math (like modulo and powers of 2). \n",
    "\n",
    "For the next 6 weeks, I'm looking forward to planning and making our team's CPT website that consists of a UI for users to create buttons. I am also looking forward to learning how to set up an SQL database for users and using a flask repo to create a login system for users. It seems like a very cool part of web dev and probably very crucial for real-life applications.\n",
    "I'm also hyped about working with plenty of CSS including new and more powerful variations like SCSS, creating unique layouts and designs that can be seen by the whole world. I want to work well with my teammates in the design and infrastructure for the project and create something big."
   ]
  }
 ],
 "metadata": {
  "language_info": {
   "name": "python"
  },
  "orig_nbformat": 4
 },
 "nbformat": 4,
 "nbformat_minor": 2
}
