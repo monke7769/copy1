{
 "cells": [
  {
   "cell_type": "markdown",
   "metadata": {},
   "source": [
    "---\n",
    "layout: post\n",
    "title: 3.10 & 3.11 homework\n",
    "description: Lists & Binary Search HW\n",
    "comments: true\n",
    "permalink: /310311\n",
    "author: Hayden Chen\n",
    "---"
   ]
  },
  {
   "cell_type": "markdown",
   "metadata": {},
   "source": [
    "Problem 1"
   ]
  },
  {
   "cell_type": "code",
   "execution_count": 21,
   "metadata": {},
   "outputs": [
    {
     "name": "stdout",
     "output_type": "stream",
     "text": [
      "right now there are 10 foods\n",
      "this is the list\n",
      "['aapple', 'bapple', 'capple', 'orange', 'tofu', 'meatballs', 'fishballs', 'amongus', 'trees', 'kim jong un']\n",
      "right now there are 9 foods\n",
      "this is the list\n",
      "['aapple', 'bapple', 'capple', 'orange', 'tofu', 'meatballs', 'fishballs', 'amongus', 'trees']\n",
      "right now there are 6 foods\n",
      "this is the list\n",
      "['orange', 'tofu', 'meatballs', 'fishballs', 'amongus', 'trees']\n",
      "My favorite foods are among the ones with 'b' in them:\n",
      "meatballs\n",
      "fishballs\n"
     ]
    }
   ],
   "source": [
    "# list indexing and list procedures\n",
    "\n",
    "food = ['aapple','bapple','capple','orange','tofu','meatballs','fishballs','amongus','trees','kim jong un']\n",
    "def foodCheck(): # define function to check the list, prints size and elements\n",
    "    l = len(food) # the size of the food array\n",
    "    print(f\"right now there are {l} foods\")\n",
    "    print(\"this is the list\")\n",
    "    print(food) # print list\n",
    "foodCheck() # call function to check on list\n",
    "food.remove(food[-1]) # remove last element\n",
    "foodCheck()\n",
    "food = [i for i in food if i[-5:] != 'apple'] # uses list comprehension. removes all elements in list that ends with 'apple'\n",
    "foodCheck()\n",
    "print(\"My favorite foods are among the ones with 'b' in them:\")\n",
    "for i in food: # loops through all elements of list\n",
    "    if 'b' in i: # if letter 'b' is in the element, it is favorite food\n",
    "        print(i)"
   ]
  },
  {
   "cell_type": "markdown",
   "metadata": {},
   "source": [
    "Problem 2"
   ]
  },
  {
   "cell_type": "code",
   "execution_count": 32,
   "metadata": {},
   "outputs": [
    {
     "name": "stdout",
     "output_type": "stream",
     "text": [
      "5\n",
      "After actually binary searching: 5\n"
     ]
    }
   ],
   "source": [
    "# determine the worst case number of iterations of a binary search for an array of length 20\n",
    "import math\n",
    "print(int(math.log2(20) // 1)+1) # the best solution\n",
    "# take log base 2 of the array size and round up (or +1)\n",
    "\n",
    "# the slow way\n",
    "arr = [0,1,2,3,4,5,6,7,8,9,10,11,12,13,14,15,16,17,18,19]\n",
    "def binary_search(arr,target,i): # binary search it\n",
    "    l = 0\n",
    "    r = 19\n",
    "    while l <= r:\n",
    "        mid = (l+r)//2\n",
    "        i += 1\n",
    "        \n",
    "        if arr[mid] == target:\n",
    "            return i # the binary search should return how many iterations it took\n",
    "        elif arr[mid] < target:\n",
    "            l = mid + 1\n",
    "        elif arr[mid] > target:\n",
    "            r = mid - 1\n",
    "max_iter = 0 # initiate maximum amount of iterations\n",
    "for t in range(19):\n",
    "    iter = binary_search(arr,t,0) # binary search all the items\n",
    "    max_iter = max(iter,max_iter) # change max_iter if new max is found\n",
    "print(f\"After actually binary searching: {max_iter}\")"
   ]
  },
  {
   "cell_type": "markdown",
   "metadata": {},
   "source": [
    "Problem 3\n",
    "\n",
    "This code loops over all the elements of myList and multiplies everything by 2. \n",
    "So the final output should be A) [20, 40, 60, 80, 100]."
   ]
  }
 ],
 "metadata": {
  "kernelspec": {
   "display_name": "Python 3",
   "language": "python",
   "name": "python3"
  },
  "language_info": {
   "codemirror_mode": {
    "name": "ipython",
    "version": 3
   },
   "file_extension": ".py",
   "mimetype": "text/x-python",
   "name": "python",
   "nbconvert_exporter": "python",
   "pygments_lexer": "ipython3",
   "version": "3.11.4"
  },
  "orig_nbformat": 4
 },
 "nbformat": 4,
 "nbformat_minor": 2
}
