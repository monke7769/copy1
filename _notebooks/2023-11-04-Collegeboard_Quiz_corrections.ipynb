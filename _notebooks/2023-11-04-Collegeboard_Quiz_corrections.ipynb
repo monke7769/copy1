{
 "cells": [
  {
   "cell_type": "markdown",
   "metadata": {},
   "source": [
    "---\n",
    "layout: post\n",
    "title: Quiz Corrections\n",
    "description: Collegeboard Quiz corrections. Score 63/66\n",
    "type: hacks\n",
    "author: Hayden Chen\n",
    "comments: true\n",
    "courses: { compsci: {week: 11} }\n",
    "---"
   ]
  },
  {
   "cell_type": "markdown",
   "metadata": {},
   "source": [
    "![](https://i.ibb.co/K0KVtRJ/Image-11-4-23-at-8-21-PM.jpg)\n",
    "\n",
    "WHY IT IS C:\n",
    "\n",
    "Obviously, Program 1 does the correct thing where the loop is executed 4 times. Each time, the robot moves forward, turns left, moves forward, and turns right. This is tantamount to the robot moving one block north and one block west, and resetting the robot's direction back to north. This then occurs 4 times, so the robot in total moves north 4 blocks and west 4 blocks. So both programs achieve the desired outcome.\n",
    "\n",
    "WHY I CHOSE B:\n",
    "\n",
    "I thought that ROTATE_RIGHT was ROTATE_LEFT so my reasoning as that Program 1 would make the robot move in a square. Turns out, I was wrong."
   ]
  },
  {
   "cell_type": "markdown",
   "metadata": {},
   "source": [
    "![](https://i.ibb.co/VtFvSt9/Image-11-4-23-at-8-30-PM.jpg)\n",
    "\n",
    "WHY IT IS A:\n",
    "\n",
    "Apparently, n^2 runtime is not too slow. Collegeboard claims that all polynomial runtimes are acceptable, so therefore the algorithm runs in reasonable time.\n",
    "\n",
    "WHY I CHOSE B:\n",
    "\n",
    "In USACO, O(n^2) time complexity is almost never the correct solution and most of the time does not run within the time constraints. Testcases with n > 10^4 would not pass on a python O(n^2) algorithm. But we must conform to Collegeboard standards."
   ]
  },
  {
   "cell_type": "markdown",
   "metadata": {},
   "source": [
    "![](https://i.ibb.co/XxGvh9b/Image-11-4-23-at-8-36-PM.jpg)\n",
    "\n",
    "Crowdsourcing definition:\n",
    "\n",
    "the practice of obtaining information or input into a task or project by enlisting the services of a large number of people, either paid or unpaid, typically via the internet.\n",
    "\n",
    "My definition:\n",
    "\n",
    "using the internet as a way to gather data from the people\n",
    "\n",
    "WHY IT IS A:\n",
    "\n",
    "Statement I is correct because people can use the internet to gather lots of useful tools and input into crowdsourcing. Statement II is correct because the internet is able to connect people all over the world so they can have input into the crowdsourcing. Statement III is INCORRECT because while the internet enables the distribution of powerful computational solutions, definitely not all computational problems can be solved.\n",
    "\n",
    "WHY I CHOSE D:\n",
    "\n",
    "I did not read carefully oops\n",
    "\n",
    "I must remember to consider these \"multiple-choice\" problems carefully in the future and read all the statements properly before selecting. Just can't rush otherwise I screw up"
   ]
  }
 ],
 "metadata": {
  "language_info": {
   "name": "python"
  },
  "orig_nbformat": 4
 },
 "nbformat": 4,
 "nbformat_minor": 2
}
