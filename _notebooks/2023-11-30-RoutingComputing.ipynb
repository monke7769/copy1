{
 "cells": [
  {
   "cell_type": "markdown",
   "metadata": {},
   "source": [
    "---\n",
    "toc: true\n",
    "comments: false\n",
    "layout: post\n",
    "title: Colors AND\n",
    "description: AND Colors together\n",
    "type: hacks\n",
    "courses: { compsci: {week: 1} }\n",
    "---"
   ]
  },
  {
   "cell_type": "markdown",
   "metadata": {},
   "source": [
    "Fault-Tolerant Network: has redundancy (if you snap one wire, not the whole thing breaks)\n",
    "\n",
    "Parallel computing: using multiple processors or cores to execute a single program simultaneously. *Faster than sequential computing, executes multiple things at once*\n",
    "Code gets broken into small sequential operations performed simultaneously\n",
    "\n",
    "Sequential computing is good for small-scale things and makes it easier to debug code (rather than looking at parallel computing, where you have to look at many things working at the same time)\n",
    "\n",
    "Distributed computing: connecting multiple computers over a network to solve a single problem."
   ]
  }
 ],
 "metadata": {
  "language_info": {
   "name": "python"
  },
  "orig_nbformat": 4
 },
 "nbformat": 4,
 "nbformat_minor": 2
}
