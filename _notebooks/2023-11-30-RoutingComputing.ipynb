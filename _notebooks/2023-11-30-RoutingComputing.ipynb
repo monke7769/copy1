{
 "cells": [
  {
   "cell_type": "markdown",
   "metadata": {},
   "source": [
    "---\n",
    "toc: true\n",
    "comments: false\n",
    "layout: post\n",
    "title: Colors AND\n",
    "description: AND Colors together\n",
    "type: hacks\n",
    "courses: { compsci: {week: 14} }\n",
    "---"
   ]
  },
  {
   "cell_type": "markdown",
   "metadata": {},
   "source": [
    "Fault-Tolerant Network: has redundancy (if you snap one wire, not the whole thing breaks)\n",
    "\n",
    "Parallel computing: using multiple processors or cores to execute a single program simultaneously. *Faster than sequential computing, executes multiple things at once*\n",
    "Code gets broken into small sequential operations performed simultaneously\n",
    "\n",
    "Sequential computing is good for small-scale things and makes it easier to debug code (rather than looking at parallel computing, where you have to look at many things working at the same time)\n",
    "\n",
    "Distributed computing: connecting multiple computers over a network to solve a single problem."
   ]
  },
  {
   "cell_type": "markdown",
   "metadata": {},
   "source": [
    "Question 1: What is parallel computing?\n",
    "\n",
    "Parallel computing uses multiple cores to execute a single program simultaneously, by breaking down the code into smaller parts for each core to execute at the same time. This increases execution speed and efficiency.\n",
    "\n",
    "Question 2: If there is a computer with 3 cores that can each take one task, and the tasks are 25ms, 632ms and 100ms in run time respectively, how long will the program take to run?\n",
    "\n",
    "The program will run in 632 ms since that is the longest task and one core will have to spend that amount of time to execute its task.\n",
    "\n",
    "Question 3: Is sequential or parallel computing more efficient, and why?\n",
    "\n",
    "Parallel computing is more efficient, especially for programs/tasks that are larger-scale and more complex. This is because by splitting up the program into separate parts to be executed at the same time, the computing will be finished faster than if the program is executed through sequential computing (one task after another).\n",
    "\n",
    "Question 4: What is the term called when a network has multiple paths leading up to one destination? (Used in fault-tolerant systems)\n",
    "\n",
    "Redundancy. This is better and ensures fast networking and failsafe/fallback routes."
   ]
  }
 ],
 "metadata": {
  "language_info": {
   "name": "python"
  },
  "orig_nbformat": 4
 },
 "nbformat": 4,
 "nbformat_minor": 2
}
