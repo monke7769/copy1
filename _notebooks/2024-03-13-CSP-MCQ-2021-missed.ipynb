{
 "cells": [
  {
   "cell_type": "markdown",
   "metadata": {},
   "source": [
    "---\n",
    "comments: true\n",
    "layout: post\n",
    "title: MCQ 2021 Corrections/Reflection\n",
    "description: 2021 CB MCQ practice\n",
    "type: tangibles\n",
    "courses: { compsci: {week: 26} }\n",
    "---"
   ]
  },
  {
   "cell_type": "markdown",
   "metadata": {},
   "source": [
    "# Score: 69/70\n",
    "# Incorrect\n",
    "\n",
    "56.\n",
    "[![Screenshot-2024-03-13-at-3-23-17-PM.png](https://i.postimg.cc/KcwL9mFB/Screenshot-2024-03-13-at-3-23-17-PM.png)](https://postimg.cc/dDRL3PhV)\n",
    "\n",
    "Thoughts on this problem: \n",
    "\n",
    "Previously, I thought that the teacher just needed the students who played 1+ sport and had higher grade point averages, so I chose C. However, I obviously did not put enough thought into this question; because the teacher needs all of the students' GPAs in order to determine if there's a relationship between GPA and playing sports. Just taking the students with over 3.5 is not enough. \n",
    "\n",
    "# Problems that were kind hard for me\n",
    "\n",
    "9.\n",
    "[![Screenshot-2024-03-13-at-3-50-45-PM.png](https://i.postimg.cc/6q2bgZcC/Screenshot-2024-03-13-at-3-50-45-PM.png)](https://postimg.cc/dZF9TLz0)\n",
    "\n",
    "Thoughts on this problem:\n",
    "\n",
    "I didn't know what an analog audio signal was. I just guessed right because I knew most information stored in computers at the lowest level were in the form of bits.\n",
    "\n",
    "According to the google: \"a voltage, current, or physical quantity that continuously and infinitely varies in accordance with some time-varying parameter. For example, radio waves, television waves, or sound waves are all examples of analog signals\"\n",
    "\n",
    "So I guess it would make the most sense for the signal to be measured at regular intervals, and stored as a sample. It probably wouldn't be input parameters, operations to be reproduced, or text...\n",
    "\n",
    "22.\n",
    "[![Screenshot-2024-03-13-at-4-02-36-PM.png](https://i.postimg.cc/prVwpyPS/Screenshot-2024-03-13-at-4-02-36-PM.png)](https://postimg.cc/bDMC5yD0)\n",
    "\n",
    "Thoughts on this problem:\n",
    "\n",
    "Not that difficult, but sort of tricky in a way because all the code snippets look kind of similar. I think the fastest way to think about this problem, without going through all of the code snippets step by step, is to note that robot should move forward first, then left. Only A does this. In B, C, and D, all of them have the robot turn left first, then move forward. This already deviates from the desired outcome. Next time, I could be a bit faster.\n",
    "\n",
    "34.\n",
    "[![Screenshot-2024-03-13-at-4-07-11-PM.png](https://i.postimg.cc/8kmF9Csr/Screenshot-2024-03-13-at-4-07-11-PM.png)](https://postimg.cc/9zzFqCdW)\n",
    "\n",
    "It took me a while to realize that line 9 was the culprit, because how there were actually two random numbers generated. There is an edge case where random!=1 first but then random=1 in the next time generated, so then xCount and yCount are both not incremented. \"Else\" is probably always the better option. Two \"if\" statements in a row might be kind of suspicious.\n",
    "\n",
    "# Reflection\n",
    "\n",
    "Based on this MCQ practice, I need to improve my common sense. I should probably also review the stuff about Internet/WWW thing and also random others like analog signals, etc. My strong suit is probably algorithmic stuff like robot questions since I come from an algorithmic coding background (USACO, ACSL, etc.)"
   ]
  }
 ],
 "metadata": {
  "language_info": {
   "name": "python"
  },
  "orig_nbformat": 4
 },
 "nbformat": 4,
 "nbformat_minor": 2
}
