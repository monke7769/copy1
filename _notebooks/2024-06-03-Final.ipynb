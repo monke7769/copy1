{
 "cells": [
  {
   "cell_type": "markdown",
   "metadata": {},
   "source": [
    "---\n",
    "comments: true\n",
    "layout: post\n",
    "title: Final\n",
    "description: Interview\n",
    "type: tangibles\n",
    "courses: { compsci: {week: 31} }\n",
    "---"
   ]
  },
  {
   "cell_type": "markdown",
   "metadata": {},
   "source": [
    "My name is Hayden Chen. I am a sophomore at Del Norte High School. Some of my main interests are competitive computing and mathematics, Artifical Intelligence, and music.\n",
    "\n",
    "Github Link: https://github.com/monke7769\n",
    "\n",
    "I took the renowed AP Computer Science Principles class at DNHS in the 2023-2024 school year. Throughout the course, I learned full stack development, involving the use of Flask API, SQLite Databases, and Postman. My previous Python knowledge gave me a kickstart in this class, as I was able to quickly pick up RESTful operations that handled data exchange between Frontends and Backends. I have also familiarized myself with running Backends through Flask API and building Frontend designs using HTML, CSS, and JavaScript.\n",
    "\n",
    "This year, I've participated in and completed several Full Stack Projects spanning a diverse array of features and disciplines within the field of Computer Science. A few of these include Machine Learning in the MLConcussions Project (using Linear Regression), SQLite Databases in the Buttonify Project (including a search feature), and several projects running a backend and a frontend communicating through POST, GET, and PUT methods.\n",
    "\n",
    "My Project Catalog can be found on the Time-Box page.\n",
    "\n",
    "Through the development of most of the these projects, I have learned effective collaboration strategies in Agile methology, including effective and timely communication, completing group-assigned tasks on time, regularly having check-up meetings, and staying organized throughout.\n",
    "\n",
    "Our group work strategy always included division of work into the main categories of Frontend/Backend. During the first two trimesters of this year, I took the Frontend portions of our projects, and I gained JavaScript skills quickly with the help of ChatGPT. Learning integration of the Frontend/Backend was a big point for me, and I also improved my ability to build off and connect my work with my teammates' (knowing how to make FETCH requests to the Backend, for example).\n",
    "\n",
    "Third trimester was about working in pairs, and this time I worked on Backend development. It was the first time I worked with building Flask APIs (Blueprints). I also stepped into the field of Machine Learning/AI with the MLConcussions Project that my partner and I ideated based on a real-life experience and worked hard to develop. Our final result was a fully functional Linear Regression model that took in users' physical stats and living habits to predict how long their concussion would be in healing."
   ]
  }
 ],
 "metadata": {
  "language_info": {
   "name": "python"
  },
  "orig_nbformat": 4
 },
 "nbformat": 4,
 "nbformat_minor": 2
}
