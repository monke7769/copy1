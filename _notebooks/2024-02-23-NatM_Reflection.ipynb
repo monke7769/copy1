{
 "cells": [
  {
   "cell_type": "markdown",
   "metadata": {},
   "source": [
    "---\n",
    "toc: false\n",
    "comments: true\n",
    "layout: post\n",
    "title: Night at the Museum Reflection\n",
    "description: Reflection on growths for the CPT project (Capture the Moment)\n",
    "type: tangibles\n",
    "courses: { compsci: {week: 21} }\n",
    "---"
   ]
  },
  {
   "cell_type": "markdown",
   "metadata": {},
   "source": [
    "# reflection on glows/grows from your demo\n",
    "\n",
    "Our website was working very well during NatM. Because of how our website was so well-structured, our demos went very smoothly and we were able to engage listeners in interactive ways. I think the most impressive part was the animation of the button (which our scrum master Sensei Wu made) and everyone who stopped by our table tried it out. \n",
    "\n",
    "However, I think there were some parts of the website (such as search function, even homepage) that we made but didn't have so much chance to show. This was partly due to poor presentation planning (we should probably have saved the button animation for last). Additionally, our website definitely **lacked good CSS and styling**, it was mostly default in terms of visuals. Visual appeal of the website could have used a lot more work. Lastly, we could have **added some more features to the button making page**, such as import pre-made HTML code and maybe triangle/circle buttons instead of just rectangles. Perhaps also button function/button text (although function may be somewhat difficult). \n",
    "\n",
    "# something you will add to individual CPT project\n",
    "\n",
    "I will focus on making a button designer in the individual CPT project, using those HTML tools that we had in this project and making more and more features. I don't think the other pages are too important but may be useful if I want to demonstrate knowledge of CRUD and backend database. Better CSS must also be created because we can't have a barebones black and white website.\n",
    "\n",
    "scrum master sensei wu 🥵🥵🥵\n",
    "![1](https://i.ibb.co/ZBs6RBs/IMG-4545.jpg)\n",
    "![2](https://i.ibb.co/Ry8YN4Q/IMG-4548.jpg)\n",
    "![3](https://i.ibb.co/9t7Txm5/IMG-4553.jpg)"
   ]
  },
  {
   "cell_type": "markdown",
   "metadata": {},
   "source": [
    "# something you saw in CompSci that impressed\n",
    "\n",
    "I was very impressed by one group who made a chatroom similar to discord. It really demonstrated how important instant messaging is in today's world, and the need to have instant communication in crucial times. Their project opened my eyes to the innumerable tangents that we could have potentially gone off on in this CPT project.\n",
    "\n",
    "# something you saw outside of CompSci that you liked\n",
    "\n",
    "There were some very nice 3D animation projects that I didn't get to take pictures of... I really liked how they were able to create impressive, lifelike images using computer software"
   ]
  }
 ],
 "metadata": {
  "language_info": {
   "name": "python"
  },
  "orig_nbformat": 4
 },
 "nbformat": 4,
 "nbformat_minor": 2
}
