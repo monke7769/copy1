{
 "cells": [
  {
   "cell_type": "markdown",
   "metadata": {},
   "source": [
    "---\n",
    "toc: true\n",
    "comments: true\n",
    "layout: post\n",
    "title: TEST\n",
    "description: This is a test for addition to the markdown table of the new CompSci page.\n",
    "courses: { compsci: {week: 2}}\n",
    "type: hacks\n",
    "---"
   ]
  }
 ],
 "metadata": {
  "language_info": {
   "name": "python"
  },
  "orig_nbformat": 4
 },
 "nbformat": 4,
 "nbformat_minor": 2
}
