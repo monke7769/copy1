{
 "cells": [
  {
   "cell_type": "markdown",
   "metadata": {},
   "source": [
    "---\n",
    "layout: post\n",
    "title: 3.7 & 3.8 homework\n",
    "description: Iteration HW\n",
    "comments: true\n",
    "permalink: /3738\n",
    "author: Hayden Chen\n",
    "---"
   ]
  },
  {
   "cell_type": "markdown",
   "metadata": {},
   "source": [
    "# Problem 1\n",
    "\n",
    "My ideal day is contained within the myday list. I try to get a certain amount of things accomplished a day, but what actually happens is never the intended outcome..."
   ]
  },
  {
   "cell_type": "code",
   "execution_count": 18,
   "metadata": {},
   "outputs": [
    {
     "name": "stdout",
     "output_type": "stream",
     "text": [
      "You want to do 4 things today.\n",
      "Your efficiency: Breakfast Breakfast Breakfast Breakfast \n"
     ]
    }
   ],
   "source": [
    "myday = ['Breakfast','School','Lunch','School','Exercise','Dinner','HW','Sleep']\n",
    "def day(n):\n",
    "    if n == 0:\n",
    "        return ''\n",
    "    elif n > 0:\n",
    "        return myday[0]+' '+day(n-1)\n",
    "num = int(input(\"How many things do you want to do today?\"))\n",
    "print(f\"You want to do {num} things today.\")\n",
    "print(\"Your efficiency: \"+day(num))"
   ]
  },
  {
   "cell_type": "markdown",
   "metadata": {},
   "source": [
    "# Problem 2\n",
    "\n",
    "The two terminating statements are necessary in order to provide the two base terms for which the rest of the Fibonacci sequence is based off. For example, if the second Fibonacci number was desired and the terminating statements were not present, then the code would try to compute the sum of the first element and the zeroth element, which would not be possible since we have not defined a zeroth element. (The sequence cannot just depend on one base term)\n",
    "\n",
    "Comments have been added to the Fibonacci code."
   ]
  },
  {
   "cell_type": "code",
   "execution_count": 19,
   "metadata": {},
   "outputs": [
    {
     "name": "stdout",
     "output_type": "stream",
     "text": [
      "0\n",
      "1\n",
      "1\n",
      "2\n",
      "3\n",
      "5\n",
      "8\n",
      "13\n"
     ]
    }
   ],
   "source": [
    "def fibonacci(x): \n",
    "    if x == 1:\n",
    "        return(0) # First terminating statement\n",
    "    # returns the first fibonacci number\n",
    "    elif x == 2:\n",
    "        return(1) # Second terminating statement\n",
    "    # returns the second fibonacci number\n",
    "    else:\n",
    "        return(fibonacci(x-1)+ fibonacci(x-2)) # calls the function again to produce the previous two and returns their sum\n",
    "for i in range(8): # print the first eight Fibonacci numbers  \n",
    "    print(fibonacci(i+1))"
   ]
  },
  {
   "cell_type": "markdown",
   "metadata": {},
   "source": [
    "# Factorial recursion"
   ]
  },
  {
   "cell_type": "code",
   "execution_count": null,
   "metadata": {},
   "outputs": [],
   "source": [
    "# factorial recursion\n",
    "\n",
    "def factorial(n):\n",
    "    if n == 1:\n",
    "        return n\n",
    "    elif n >= 2:\n",
    "        return factorial(n-1)*n\n",
    "print(factorial(1003))"
   ]
  },
  {
   "cell_type": "markdown",
   "metadata": {},
   "source": [
    "# Fibonacci Series but actually efficient"
   ]
  },
  {
   "cell_type": "code",
   "execution_count": null,
   "metadata": {},
   "outputs": [],
   "source": [
    "# fibonacci series. MUCH more efficient than recursion (handles cases up to orders of 10^5)\n",
    "fiblist = [0,1]\n",
    "def fib(n):\n",
    "    if n <= 1:\n",
    "        return fiblist[n]\n",
    "    else:\n",
    "        for i in range(n-2):\n",
    "            fiblist.append(fiblist[-2]+fiblist[-1])\n",
    "        return fiblist[-1]\n",
    "num = int(input())\n",
    "print(fib(num))"
   ]
  }
 ],
 "metadata": {
  "kernelspec": {
   "display_name": "Python 3",
   "language": "python",
   "name": "python3"
  },
  "language_info": {
   "codemirror_mode": {
    "name": "ipython",
    "version": 3
   },
   "file_extension": ".py",
   "mimetype": "text/x-python",
   "name": "python",
   "nbconvert_exporter": "python",
   "pygments_lexer": "ipython3",
   "version": "3.11.4"
  },
  "orig_nbformat": 4
 },
 "nbformat": 4,
 "nbformat_minor": 2
}
