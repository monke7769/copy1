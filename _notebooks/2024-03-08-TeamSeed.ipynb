{
 "cells": [
  {
   "cell_type": "markdown",
   "metadata": {},
   "source": [
    "---\n",
    "toc: false\n",
    "comments: true\n",
    "layout: post\n",
    "title: Seeeed Team\n",
    "description: Team\n",
    "type: tangibles\n",
    "courses: { compsci: {week: 25} }"
   ]
  },
  {
   "cell_type": "markdown",
   "metadata": {},
   "source": [
    "# Plans/ideation:\n",
    "\n",
    "We will be implementing a Machine Learning project centered around advertising\n",
    "\n",
    "# Functions\n",
    "take in what the user likes and input into a database to give themed Advertisements.\n",
    "\n",
    "# Schedule\n",
    "\n",
    "Friday 3/8 - Plans, Schedules, Role Assignment\n",
    "\n",
    "Tuesday 3/12 - Backend, Frontend setup with titanic data\n",
    "\n",
    "Thursday 3/14 - New model data found, transfer of backend into new theme and CPT\n",
    "\n",
    "Monday 3/18 - New model finished, tested, frontend and backend nearly finish\n",
    "\n",
    "Wednesday 3/20 - Final tweaks finished, ready for review\n",
    "\n",
    "# Division of work\n",
    "- Frontend: Andrew\n",
    "- Backend: Hayden\n",
    "\n",
    "I will be working with my pair Andrew Kim this trimester (we only have 2 people). Since we are the only non-triangle group in the class, we will have to adapt and establish our roles accordingly. I will focused on the backend with the dataset and models/functions, while Andrew focuses on importing a good theme for the frontend and making user input. We will figure out together what our ML project should be on and search for a database together. If we need help, Ian \"Sensei\" Wu can be our 2.5th member and we can also get assistance from crossover group (Ian, Harkirat, Shubhay)."
   ]
  }
 ],
 "metadata": {
  "language_info": {
   "name": "python"
  },
  "orig_nbformat": 4
 },
 "nbformat": 4,
 "nbformat_minor": 2
}
