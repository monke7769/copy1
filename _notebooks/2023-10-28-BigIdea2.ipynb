{
 "cells": [
  {
   "cell_type": "markdown",
   "metadata": {},
   "source": [
    "---\n",
    "layout: post\n",
    "title: Big Idea 2\n",
    "description: big idea 2 main points\n",
    "type: hacks\n",
    "permalink: /bigidea2\n",
    "author: Hayden Chen\n",
    "comments: true\n",
    "courses: { compsci: {week: 10} }\n",
    "---"
   ]
  }
 ],
 "metadata": {
  "language_info": {
   "name": "python"
  },
  "orig_nbformat": 4
 },
 "nbformat": 4,
 "nbformat_minor": 2
}
