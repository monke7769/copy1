{
 "cells": [
  {
   "cell_type": "markdown",
   "metadata": {},
   "source": [
    "---\n",
    "layout: post\n",
    "title: Big Idea 1\n",
    "description: Plans\n",
    "type: hacks\n",
    "permalink: /bigidea1\n",
    "author: Hayden Chen\n",
    "comments: true\n",
    "courses: { compsci: {week: 10} }\n",
    "---"
   ]
  }
 ],
 "metadata": {
  "language_info": {
   "name": "python"
  },
  "orig_nbformat": 4
 },
 "nbformat": 4,
 "nbformat_minor": 2
}
