{
 "cells": [
  {
   "cell_type": "markdown",
   "metadata": {},
   "source": [
    "---\n",
    "layout: post\n",
    "title: I love Me Tools\n",
    "description: Me simping for my awesome insane epic lovely sexy tools\n",
    "toc: true\n",
    "comments: true\n",
    "categories: [5.A, C4.1]\n",
    "type: hacks\n",
    "courses: { compsci: {week: 0} }\n",
    "---"
   ]
  },
  {
   "cell_type": "markdown",
   "metadata": {},
   "source": [
    "There are many technological software tools used in this class. And the reason that I love them is because of their accessibility, that everyone can easily learn how to use them and create something wonderful on the internet -- a website.\n",
    "\n",
    "I especially love VSCode because of the amount of languages supported and many plugins there are in the environment. Even with the dark theme, all the different languages have color-coded text for different types and it is very easily readable. I feel like I could accomplish a lot with such great tools.\n",
    "\n",
    "The second tool is Jupyter Notebook, which enables aspiring programmers to easily work with input/output for over 100 languages (Python specifically at the beginning) and learn the languages quickly. It is also a great way to keep thoughts organized and has a friendly GUI that people with no experience and handle.\n",
    "\n",
    "Lastly, I absolutely adore Github, the place where all of our student websites and works in progress are stored. Even professionals use Github and it is really convenient for us all to pull, push, commit and publish our code onto actual websites that can be hosted on the internet and accessed by anyone, anywhere. I feel so grateful to have all these tools at my disposal!\n",
    "\n",
    "<3"
   ]
  }
 ],
 "metadata": {
  "language_info": {
   "name": "python"
  },
  "orig_nbformat": 4
 },
 "nbformat": 4,
 "nbformat_minor": 2
}
