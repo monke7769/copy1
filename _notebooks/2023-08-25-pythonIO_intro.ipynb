{
 "cells": [
  {
   "cell_type": "markdown",
   "metadata": {},
   "source": [
    "---\n",
    "layout: post\n",
    "title: Python IO intro\n",
    "description: 8/25 Python grind\n",
    "toc: true\n",
    "comments: true\n",
    "categories: [5.A, C4.1]\n",
    "---"
   ]
  },
  {
   "cell_type": "markdown",
   "metadata": {},
   "source": [
    "### Code^3\n",
    "\n",
    "How to print/output in Python: use the print command. It may print static text, or dynamic variables depending on what is encapsulated in the print() parentheses.\n",
    "Below code takes two numbers and outputs their sum."
   ]
  },
  {
   "cell_type": "code",
   "execution_count": null,
   "metadata": {},
   "outputs": [],
   "source": [
    "num1 = int(input(\"Enter the first number: \"))\n",
    "num2 = int(input(\"Enter the second number: \"))\n",
    "output = num1+num2\n",
    "print(str(output)) # prints the output variable after converting to string"
   ]
  },
  {
   "cell_type": "markdown",
   "metadata": {},
   "source": [
    "Functions are very useful in Python (and other programming languages) because they perform some task on a number of set parameters. Defining functions can reduce code redundancy and can be done with the def keyword. \n",
    ">>String concatenation also exists. A string may be appended to another string, as shown in the example below:"
   ]
  },
  {
   "cell_type": "code",
   "execution_count": null,
   "metadata": {},
   "outputs": [],
   "source": [
    "def concatenate(str1,str2):\n",
    "    return str1+str2\n",
    "# testing function concatenate()\n",
    "\n",
    "first = input(\"First string: \")\n",
    "second = input(\"Second input: \")\n",
    "print(concatenate(first,second))"
   ]
  },
  {
   "cell_type": "markdown",
   "metadata": {},
   "source": [
    "Note that the local variables (parameters of concatenate, str1 and str2) need not be the same as the global variables 'first' and 'second' here. In the last line, the print function calls concatenate, which with its assigned parameters sets str1 and str2 equal to first and second respectively. The function returns the concatenation of these two strings, then print function outputs to the terminal.\n",
    "\n",
    "Additionally, in Python, there are numerous libraries and functions that can be imported into programs to improve functionality. For example,"
   ]
  },
  {
   "cell_type": "code",
   "execution_count": null,
   "metadata": {},
   "outputs": [],
   "source": [
    "import turtle"
   ]
  },
  {
   "cell_type": "markdown",
   "metadata": {},
   "source": [
    "imports the turtle graphics library for usage. (this module is really fun to experiment with)\n",
    "\n",
    "Lastly, 'if' statements in Python are used to evaluate if the contained expression is true or false. The code branches: If \"true\", then the code takes the brance directly under 'if', and if \"false\", the code takes the other \"else\" branch. \n",
    "\n",
    "'if' statements has much more functionality than just \"true\" or \"false\". An example is shown below, having more than just two branches."
   ]
  },
  {
   "cell_type": "code",
   "execution_count": null,
   "metadata": {},
   "outputs": [],
   "source": [
    "num = int(input(\"Enter your number: \"))\n",
    "if num < 0:\n",
    "    print(\"The number is negative!\")\n",
    "elif num == 0: # if-elif-else chain provides more than just 2 possible branches\n",
    "    print(\"The number is exactly zero\")\n",
    "elif 0 < num <= 10:\n",
    "    print(\"I could eat this amount of tangerines in one sitting...\")\n",
    "else: # I can't eat more than 10 tangerines at once :(\n",
    "    print(\"That's pretty BIG\")"
   ]
  },
  {
   "cell_type": "markdown",
   "metadata": {},
   "source": [
    "Finally, here is my own \"quiz\" including questions related to the above discussed material, complete with in-line comments demonstrating how the code works.\n",
    "#### The quiz shortens the sample code from teacher website using a defined function and a for loop looping through questions and answers in order."
   ]
  },
  {
   "cell_type": "code",
   "execution_count": 2,
   "metadata": {},
   "outputs": [
    {
     "name": "stdout",
     "output_type": "stream",
     "text": [
      "Hello, Hayden running /opt/homebrew/opt/python@3.11/bin/python3.11\n",
      "You will be asked 8 questions.\n",
      "Question: Are you ready??\n",
      "Question: Name the Python output command mentioned in this lesson\n",
      "print is correct!\n",
      "Question: If you see many lines of code in order, what would College Board call it?\n",
      "sequence is correct!\n",
      "Question: Describe a keyword used in Python to define a function?\n",
      "def is correct!\n",
      "Question: What command is used to include other functions that were previously developed?\n",
      "import is correct!\n",
      "Question: What command is used to evaluate correct or incorrect response in this quiz?\n",
      "if is correct!\n",
      "Question: Each 'if' command contains an '____' to determine a true or false condition?\n",
      "expression is correct!\n",
      "Question: What python library is fun to experiment with?\n",
      "turtle is correct!\n",
      "Question: What is Hayden's top score in Crossy Road?\n",
      "1000 is correct!\n",
      "Congrats, Hayden you scored 8/8\n",
      "This score as a percentage is 100.0%.\n"
     ]
    }
   ],
   "source": [
    "import getpass, sys\n",
    "\n",
    "def q_with_a(prompt): # use this every time to print question and get user response\n",
    "    print(\"Question: \" + prompt)\n",
    "    useranswer = input()\n",
    "    return useranswer\n",
    "\n",
    "question_bank = [\"Name the Python output command mentioned in this lesson\",\n",
    "                 \"If you see many lines of code in order, what would College Board call it?\",\n",
    "                 \"Describe a keyword used in Python to define a function?\",\n",
    "                 \"What command is used to include other functions that were previously developed?\",\n",
    "                 \"What command is used to evaluate correct or incorrect response in this quiz?\",\n",
    "                 \"Each 'if' command contains an '____' to determine a true or false condition?\",\n",
    "                 \"What python library is fun to experiment with?\",\n",
    "                 \"What is Hayden's top score in Crossy Road?\"\n",
    "                 ]\n",
    "answers = [\"print\",\"sequence\",\"def\",\"import\",\"if\",\"expression\",\"turtle\",\"1000\"]\n",
    "questions = len(question_bank) # length function gets number of q's\n",
    "correct = 0 # initialize correct answer count\n",
    "\n",
    "print('Hello, ' + getpass.getuser() + \" running \" + sys.executable)\n",
    "print(\"You will be asked \" + str(questions) + \" questions.\")\n",
    "q_with_a(\"Are you ready??\") # start it off\n",
    "\n",
    "for i in range(questions): # for loop with iterator to go through each of the question/answer sets (numbered with i)\n",
    "    userans = q_with_a(question_bank[i]) # get the user answer\n",
    "    if userans == answers[i]: # same as the defined answer in answers list\n",
    "        print(userans + \" is correct!\")\n",
    "        correct += 1 # add 1 to score\n",
    "    else: # not the same as the defined answer\n",
    "        print(userans + \" is incorrect!\")\n",
    "print(\"Congrats, \" + getpass.getuser() + \" you scored \" + str(correct) +\"/\" + str(questions))\n",
    "percentage = correct/questions * 100 # calculate percentage of questions correct\n",
    "print(\"This score as a percentage is \" + str(percentage) + \"%.\") # output\n"
   ]
  }
 ],
 "metadata": {
  "kernelspec": {
   "display_name": "Python 3",
   "language": "python",
   "name": "python3"
  },
  "language_info": {
   "codemirror_mode": {
    "name": "ipython",
    "version": 3
   },
   "file_extension": ".py",
   "mimetype": "text/x-python",
   "name": "python",
   "nbconvert_exporter": "python",
   "pygments_lexer": "ipython3",
   "version": "3.11.4"
  },
  "orig_nbformat": 4
 },
 "nbformat": 4,
 "nbformat_minor": 2
}
