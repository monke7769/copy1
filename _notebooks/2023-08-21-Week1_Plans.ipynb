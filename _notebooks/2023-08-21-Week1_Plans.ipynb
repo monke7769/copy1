{
 "cells": [
  {
   "cell_type": "markdown",
   "metadata": {},
   "source": [
    "---\n",
    "layout: post\n",
    "title: Week 1 plans\n",
    "description: Update the theme and related plans for week 2\n",
    "author: Hayden Chen\n",
    "toc: true\n",
    "comments: true\n",
    "categories: [5.A, C4.1]\n",
    "courses: { compsci: {week: 1} }\n",
    "type: plans\n",
    "---"
   ]
  },
  {
   "cell_type": "markdown",
   "metadata": {},
   "source": [
    "## Mon 8/21\n",
    "\n",
    "### Plans\n",
    "\n",
    "Figure out how the make command works. I'm currently using \n",
    "```\n",
    "bundle exec jekyll serve \n",
    "```\n",
    "to host the site locally - which is putting the site at [127.0.0.1:4000/student/](127.0.0.1:4000/student/). Hopefully I figure this out soon\n",
    "```\n",
    "make: *** [_posts/2023-08-17-AP-pseudo-vs-python_IPYNB_2_.md] Error 1\n",
    "```\n",
    "\n",
    "### Tools\n",
    "\n",
    "The biggest tool involved in the making of this website is Makefile. Makefile defines a set of tasks to be executed, such as in the case of having a website, it will define tasks such as starting the local server, starting logging, and converting notebook files to Markdown to be read.\n",
    "\n",
    "## Tues 8/22\n",
    "\n",
    "Work on putting images and new theme on the about me page.\n",
    "\n",
    "Figured out make (finally) the command that fixed everything was \n",
    "```\n",
    "ln -s /opt/homebrew/share/jupyter/nbconvert ~/Library/Jupyter\n",
    "```\n",
    "\n",
    "\n",
    "![](https://i.ibb.co/1J2pjBV/Screenshot-2023-08-23-at-10-21-51-AM.png)\n",
    "\n",
    "## Thurs 8/24\n",
    "\n",
    "I want to use this theme:\n",
    "[https://github.com/abhinavs/moonwalk](https://github.com/abhinavs/moonwalk)\n",
    "\n",
    "It looks so good but I haven't figured out how to import the theme into my github pages\n",
    "I have changed the _config.yml file to use \n",
    "```\n",
    "remote_theme: abhinavs/moonwalk\n",
    "```\n",
    "and even tried copy-pasting the contents of moonwalk.gemspec into this repo's Gemfile but neither has worked.. \n",
    "right now running the server gives me a file not found error\n",
    "![](https://images2.imgbox.com/49/37/6VbkoAzQ_o.png)\n",
    "I'm going to try to investigate the cause of the error in _includes/head.html and in _layouts. wish me luck\n",
    "\n",
    "## Fri 8/25\n",
    "\n",
    "Learned/reviewed some of the basics in Python. From now on, blogging with code will be in the \"Blog\" section of the site (using *.ipynb files) and located in the table in the CompSci Notebook page. \n",
    "\n",
    "To do today: finish learning about linux/bash commands and get familiar with them. Work with Shuban who has plenty of experience in Linux OS hardening/security."
   ]
  }
 ],
 "metadata": {
  "language_info": {
   "name": "python"
  },
  "orig_nbformat": 4
 },
 "nbformat": 4,
 "nbformat_minor": 2
}
