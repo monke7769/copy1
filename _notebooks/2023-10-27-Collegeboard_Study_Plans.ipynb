{
 "cells": [
  {
   "cell_type": "markdown",
   "metadata": {},
   "source": [
    "---\n",
    "layout: post\n",
    "title: Study Plans for Collegeboard Quiz\n",
    "description: Plans\n",
    "type: plans\n",
    "permalink: /quizplans\n",
    "author: Hayden Chen\n",
    "comments: true\n",
    "courses: { compsci: {week: 10} }\n",
    "---"
   ]
  },
  {
   "cell_type": "markdown",
   "metadata": {},
   "source": [
    "# Plans\n",
    "\n",
    "10/27 - Finish Big Idea 1\n",
    "10/28 - Finish Big Idea 2\n",
    "10/29 to 11/1 - Reread Team Teach pages + take notes\n",
    "11/2 to 11/3 - Finish Big Idea 4\n",
    "11/4 to 11/5 - Finish Big Idea 5"
   ]
  }
 ],
 "metadata": {
  "language_info": {
   "name": "python"
  },
  "orig_nbformat": 4
 },
 "nbformat": 4,
 "nbformat_minor": 2
}
