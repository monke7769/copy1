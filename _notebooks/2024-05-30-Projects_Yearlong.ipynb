{
 "cells": [
  {
   "cell_type": "markdown",
   "metadata": {},
   "source": [
    "---\n",
    "comments: true\n",
    "layout: post\n",
    "title: Project List\n",
    "description: Hayden Chen's AP CSP 2023-24 Project Catalog\n",
    "type: tangibles\n",
    "courses: { compsci: {week: 31} }\n",
    "---"
   ]
  },
  {
   "cell_type": "markdown",
   "metadata": {},
   "source": [
    "## Cipher Hijinks (Sep 2023 - Nov 2023)\n",
    "\n",
    "Developed a project aiming to expose different ciphers and encryption methods for text strings to people who have had little to no experience with cryptography using Jupyter Notebooks and HTML for the frontend and a Flask server backend.\n",
    "\n",
    "### Role: Frontend developer\n",
    "### Technologies: Flask API, HTML, JavaScript, Python\n",
    "### Links: \n",
    "https://github.com/monke7769/passion \n",
    "https://github.com/monke7769/passion-backend \n",
    "\n",
    "## Billboard Top 100 Web Scraper (Nov 2023)\n",
    "\n",
    "Developed an efficient Python language web-scraper to collect Billboard Top 100 songs from the official website and format into HTML table. Quicker than accessing real site and avoids advertisements that clutter up page.\n",
    "\n",
    "### Role: Sole developer\n",
    "### Technologies: Python, BeautifulSoup, HTML\n",
    "### Links:\n",
    "https://github.com/monke7769/webscraper\n",
    "\n",
    "## Binary.crypt (Dec 2023 - Jan 2023)\n",
    "\n",
    "Took part in the development of an binary exposition project. Project involved visual representations of binary operations including image encryption/decryption, steganography, and colors (RGB).\n",
    "\n",
    "### Role: Frontend developer\n",
    "### Technologies used: JavaScript, HTML\n",
    "### Links:\n",
    "https://github.com/iwu78/binary \n",
    "\n",
    "## Buttonify (Jan 2024 - Feb 2024)\n",
    "\n",
    "Developed a button designer website where users can design and search for buttons. Features interactive button customizer UI with animations and search feature cataloging public and private designs. Utilizes SQLite database for user profile information and saved designs. \n",
    "\n",
    "### Role: Frontend developer, Database management\n",
    "### Technologies used: SQLite, Flask API, Python, JavaScript, HTML\n",
    "### Links:\n",
    "https://github.com/iwu78/CPT \n",
    "https://github.com/tarunja1ks/CPTProjectTri2Backend \n",
    "\n",
    "## MLConcussions (Mar 2024 - May 2024)\n",
    "\n",
    "Developed a concussion website where users afflicted with concussions can get predictions on how long it will take to regain their health as well as suggestions for best recovery methods. Website takes into account users’ physical conditions and symptom severities.\n",
    "\n",
    "### Role: Backend developer, Lead Machine Learning Developer, Scrum Master\n",
    "### Technologies used: Linear Regression, Pandas, Python, JavaScript, HTML, Flask API\n",
    "### Links:\n",
    "https://github.com/monke7769/MLConcussions \n",
    "https://github.com/monke7769/MLConcussionsBackend \n",
    "\n",
    "## OpenWindows Project (Apr 2024 - May 2024)\n",
    "\n",
    "Took part in the development of a cumulative project with the theme of a Windows 11 box. Over 10 fun sub-applications included for users to experiment with. Features machine learning (Linear Regression, NLP), extensive HTML and JavaScript, and Steganography.\n",
    "\n",
    "### Role: Backend developer\n",
    "### Technologies used: Linear Regression, Pandas, Python, Keras, JavaScript, HTML, Flask API\n",
    "### Links:\n",
    "https://github.com/iwu78/PBL_Frontend \n",
    "https://github.com/iwu78/PBL_Backend \n"
   ]
  }
 ],
 "metadata": {
  "language_info": {
   "name": "python"
  },
  "orig_nbformat": 4
 },
 "nbformat": 4,
 "nbformat_minor": 2
}
