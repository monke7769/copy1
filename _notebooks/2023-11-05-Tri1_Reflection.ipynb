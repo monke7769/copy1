{
 "cells": [
  {
   "cell_type": "markdown",
   "metadata": {},
   "source": [
    "---\n",
    "layout: post\n",
    "title: Trimester 1 Reflection\n",
    "description: Thoughts\n",
    "type: tangibles\n",
    "author: Hayden Chen\n",
    "comments: true\n",
    "courses: { compsci: {week: 12} }\n",
    "---"
   ]
  },
  {
   "cell_type": "markdown",
   "metadata": {},
   "source": [
    "# Summary\n",
    "\n",
    "I definitely learned a lot this trimester. Even though I already knew the basics of programming and had a good foundation in networking, this trimester helped me to gain a deeper understanding of what it means to work in a team collaboratively (scrum/agile process).\n",
    "\n",
    "Introduction to Github.\n",
    "\n",
    "If it weren't for this trimester, I probably would never have gotten in intro to Github and all is useful functionalities. I used to always code and store my code locally, using IDLE for python. But now I know there's a lot more to programming than just individual projects, and Github is the right tool for pushing your code to the world and making it available for everyone to see. And one of the first steps towards going pro is starting with Github.\n",
    "\n",
    "Collaborating with peers.\n",
    "\n",
    "Collaborating with peers is not easy. When other people don't do their part, it's hard to make them do it, and sometimes you have to cover for each other. But I learned that it's important to maintain good communication when working in groups so that everyone knows exactly how they can contribute. Once everything is settled and all the lots are cast, it should be smooth sailing (until one person decides they aren't going to do anything). Without such collaboration though, our group would definitely have not qualified for N@tm.\n",
    "\n",
    "Learning JS.\n",
    "\n",
    "Prior to this class, I had absolutely no JS coding experience. But now I know the basics of how it works, and I can develop somewhat interactive webpages using HTML and JS. I also got a good introduction to OOP, and I at least have an understanding of how it works and plays a big role in the industry now.\n",
    "\n",
    "# Accomplishments\n",
    "\n",
    "I learned how JS works. I also learned how to use Github and the Scrum/Agile methology when working in group projects. \n",
    "\n",
    "I also had some personal learning with the Passion Project and Cryptography, and as ciphers are really useful in the digital world nowadays, knowing how secure encryption algorithms like RSA work is really important. \n",
    "\n",
    "# Future Learning and Growth\n",
    "\n",
    "Next few trimesters, this is what I want to accomplish:\n",
    "\n",
    "I want to be able to use OOP more in programming. I also want to start working more on web development as it is a part of programming that I have barely dabbled in so far. It seems interesting and I could probably get a lot more done with web development and putting things out there.\n",
    "\n",
    "Eventually, I want to be able to develop a desktop app that trains people's ears with sound (this is a looong-term goal)."
   ]
  }
 ],
 "metadata": {
  "language_info": {
   "name": "python"
  },
  "orig_nbformat": 4
 },
 "nbformat": 4,
 "nbformat_minor": 2
}
