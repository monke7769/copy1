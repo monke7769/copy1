{
 "cells": [
  {
   "cell_type": "markdown",
   "metadata": {},
   "source": [
    "---\n",
    "layout: post\n",
    "title: Big Idea 1\n",
    "description: Plans\n",
    "type: hacks\n",
    "permalink: /bigidea1\n",
    "author: Hayden Chen\n",
    "comments: true\n",
    "courses: { compsci: {week: 10} }\n",
    "---"
   ]
  },
  {
   "cell_type": "markdown",
   "metadata": {},
   "source": [
    "Effective collaboration produces innovation that reflects diversity of talents and perspectives of those who designed something.\n",
    "\n",
    "Computing innovation includes a program as an integral part of its function.\n",
    "\n",
    "4 skills: Communication, consensus building, conflict resolution, negotiation\n",
    "\n",
    "Collaboration including diverse perspectives helps avoid bias in the development of computing innovations.\n",
    "## Pair programming\n",
    "driver writes the program\n",
    "observer/pointer/navigator reviews each line of program as it's typed\n",
    "don't backseat program (point out small typos, etc.)\n",
    "switch back and forth\n",
    "## Think-Pair-Share\n",
    "think about problem alone then pair with partner, lastly share with class\n",
    "\n",
    "Communicate to both partners and yourself\n",
    "Leave comments for yourself to be able to pick up quickly\n",
    "Acknowledge (reference) stolen code\n",
    "Differentiate what you and partners did\n",
    "Repl.it or Github are good places for programming collaboration (shared documents/spaces)\n",
    "Ask others to test programs and give feedback\n",
    "\n",
    "## Program Function and Purpose\n",
    "\n",
    "The purpose of computing innovations is to solve problems or to pursue interests through creative expression\n",
    "Understanding the purpose allows developers to better develop that computing innovation\n",
    "Categories: applications, physical devices, systems, etc.\n",
    "Ex. social media purpose = people can connect, see what each other are doing...\n",
    "\n",
    "Different inputs & outputs to a program\n",
    "Program inputs are data sent to a computer for processing by a program\n",
    "Events are associated with an action and supplies input data to a program (key press, mouse click, starting a program)\n",
    "Event driven programming: program statements are executed when triggered rather than through a sequential flow\n",
    "Inputs can be from a user or other programs\n",
    "Program output is usually based on the program's input (prior state)\n",
    "\n",
    "A program = collection of program statements that performs a specific task when run by a computer. \n",
    "Program ~= software\n",
    "Code segment = collection of program statements part of a program\n",
    "Programs need to work for a variety of inputs and situations \n",
    "Behavior of a program = how it functions during execution and often described by how a user interacts with it\n",
    "Description of a program ~= what it does & how the program statements accomplish the function (WHAT and HOW)\n",
    "\n",
    "Developing a program using a development process (TESTING!!)\n",
    "Test every step of the way, refine and revise as necessary using testing, feedback, and reflection\n",
    "Design a program and its UI\n",
    "Decide on the program requirements. Decide how program should behave and its user interactions"
   ]
  },
  {
   "cell_type": "code",
   "execution_count": 4,
   "metadata": {},
   "outputs": [
    {
     "name": "stdout",
     "output_type": "stream",
     "text": [
      "Hello World\n",
      "bruh\n",
      "Hello World\n",
      "bruh\n",
      "Hello World\n",
      "bruh\n"
     ]
    }
   ],
   "source": [
    "i = 3\n",
    "while i != 0:\n",
    "    i -= 1\n",
    "    print(\"Hello World\")\n",
    "    print(\"bruh\")"
   ]
  }
 ],
 "metadata": {
  "kernelspec": {
   "display_name": "Python 3",
   "language": "python",
   "name": "python3"
  },
  "language_info": {
   "codemirror_mode": {
    "name": "ipython",
    "version": 3
   },
   "file_extension": ".py",
   "mimetype": "text/x-python",
   "name": "python",
   "nbconvert_exporter": "python",
   "pygments_lexer": "ipython3",
   "version": "3.11.4"
  },
  "orig_nbformat": 4
 },
 "nbformat": 4,
 "nbformat_minor": 2
}
