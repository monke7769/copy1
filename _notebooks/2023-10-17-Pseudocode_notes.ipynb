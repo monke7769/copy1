{
 "cells": [
  {
   "cell_type": "markdown",
   "metadata": {},
   "source": [
    "---\n",
    "layout: post\n",
    "title: Pseudocode notes\n",
    "description: Pseudocode notes + PRACTICE\n",
    "comments: true\n",
    "author: Hayden Chen\n",
    "courses: { compsci: {week: 9} }\n",
    "type: hacks\n",
    "---"
   ]
  },
  {
   "cell_type": "markdown",
   "metadata": {},
   "source": [
    "aList[i] - This access your list at index i. An index is a numeric value that represents the position of an element within that data structure. For example, the first element of aList is at index 1, represented by aList[1].\n",
    "\n",
    "x <- aList[i] - Assigns value of aList[i] to variable x\n",
    "\n",
    "aList[i] <- x - Assigns value of x to aList[i]\n",
    "\n",
    "aList[i] <- aList[j] - Assigns value of aList[j] to aList[i]\n",
    "\n",
    "INSERT(aList, i , value) - aList is the list in which you want to insert the value. i is the index at which you want to insert the value. value is the value you want to insert at that index\n",
    "\n",
    "APPEND(aList, value) - The value you put in is placed at the end of aList\n",
    "\n",
    "REMOVE(aList, i) - aList is the list in which you want to delete the value. i is the index at which you want to delete the value.\n",
    "\n",
    "LENGTH(aList) - Gives you the number of elements in aList\n",
    "\n",
    "FOR EACH item IN aList { blah blah blah } - Item is a var assigned each element of aList in order from first element to last. The code inside the for loop is run once for every assignment of item.\n",
    "\n",
    "\n",
    "---"
   ]
  },
  {
   "cell_type": "markdown",
   "metadata": {},
   "source": [
    "# Binary conversion PSEUDOCODE practice\n",
    "\n",
    "This code will attempt to convert decimal numbers into binary form. It will be written in pseudocode."
   ]
  },
  {
   "cell_type": "code",
   "execution_count": null,
   "metadata": {},
   "outputs": [],
   "source": [
    "num <- input()\n",
    "curr <- num\n",
    "binarylist <- []\n",
    "WHILE NOT(curr = 0) {\n",
    "    log <- LOG(num) // 1\n",
    "    power <- 2**log\n",
    "    APPEND(binarylist, power)\n",
    "    curr <- curr - power\n",
    "}"
   ]
  },
  {
   "cell_type": "markdown",
   "metadata": {},
   "source": [
    "---\n",
    "\n",
    "This code returns a list with the binary expansion of some number.\n",
    "\n",
    "Example: 135 => [128,4,2,1]\n",
    "\n",
    "Now we just have to perform some string operations to convert into a binary number, which we can use pseudocode to do, but because I am not yet familiar with the string operation syntax, I will omit it here."
   ]
  }
 ],
 "metadata": {
  "language_info": {
   "name": "python"
  },
  "orig_nbformat": 4
 },
 "nbformat": 4,
 "nbformat_minor": 2
}
