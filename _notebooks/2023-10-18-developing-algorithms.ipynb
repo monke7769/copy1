{
 "cells": [
  {
   "cell_type": "markdown",
   "metadata": {},
   "source": [
    "---\n",
    "layout: post\n",
    "title: 3.9 & 3.15 homework\n",
    "description: Developing Algorithms HW\n",
    "comments: true\n",
    "permalink: /39315\n",
    "author: Hayden Chen\n",
    "---"
   ]
  },
  {
   "cell_type": "markdown",
   "metadata": {},
   "source": [
    "Problem 1"
   ]
  },
  {
   "cell_type": "code",
   "execution_count": 5,
   "metadata": {},
   "outputs": [
    {
     "name": "stdout",
     "output_type": "stream",
     "text": [
      "The median score is 83.5\n"
     ]
    }
   ],
   "source": [
    "# median test grade of a class\n",
    "classScores = [96,94,83,85,85,85,87,79,88,76,79,81,93,81,66,93,96,83,83,84,100,96,85,79,79,79,79,13,95,55]\n",
    "n = len(classScores) # size of class\n",
    "classScores.sort() # simple, default sorting algorithm\n",
    "if n % 2 == 0:\n",
    "    median = (classScores[int(n/2)-1]+classScores[int(n/2)])/2 # average the middle two elements\n",
    "else:\n",
    "    median = classScores[n//2] # n//2=(n-1)/2 here\n",
    "print(f\"The median score is {median}\")"
   ]
  },
  {
   "cell_type": "markdown",
   "metadata": {},
   "source": [
    "Problem 2"
   ]
  },
  {
   "cell_type": "code",
   "execution_count": 4,
   "metadata": {},
   "outputs": [
    {
     "name": "stdout",
     "output_type": "stream",
     "text": [
      "I'm thinking of a number between 1 and 1000. Can you guess it?\n",
      "Too high.\n",
      "Too low.\n",
      "Too high.\n",
      "Too high.\n",
      "Too low.\n",
      "Too high.\n",
      "Too high.\n",
      "Too high.\n",
      "Too high.\n",
      "Too high.\n",
      "Too high.\n",
      "Too high.\n",
      "Too low.\n",
      "Too high.\n",
      "Too high.\n",
      "Correct! Good job!\n",
      "You guessed 16 times.\n"
     ]
    }
   ],
   "source": [
    "# simple game using random numbers\n",
    "# does not use global variables, but passes in guessCount every time it is called\n",
    "import random\n",
    "num = random.randint(1,1000)\n",
    "def userGuess(guessCount): # guessCount will be initialized at 0 at the end\n",
    "    try:\n",
    "        guess = int(input(\"Enter a guess between 1 and 1000!\"))\n",
    "        validate(guess,guessCount) # use the guess and pass in guessCount to see if user input is right\n",
    "    except ValueError: # when an integer is not entered\n",
    "        print(\"Please try again.\")\n",
    "        userGuess(guessCount) # try it again\n",
    "def validate(guess, guessCount): # arguments of user's guess and guessCount\n",
    "    guessCount += 1 # add one to the guessCount no matter what\n",
    "    if guess > num: # cases and recursion if the guess is not right\n",
    "        print(\"Too high.\")\n",
    "        userGuess(guessCount)\n",
    "    elif guess < num:\n",
    "        print(\"Too low.\")\n",
    "        userGuess(guessCount)\n",
    "    else:\n",
    "        print(\"Correct! Good job!\")\n",
    "        print(f\"You guessed {guessCount} times.\") # print out how many guesses the user made\n",
    "print(\"I'm thinking of a number between 1 and 1000. Can you guess it?\")\n",
    "userGuess(0)"
   ]
  }
 ],
 "metadata": {
  "kernelspec": {
   "display_name": "Python 3",
   "language": "python",
   "name": "python3"
  },
  "language_info": {
   "codemirror_mode": {
    "name": "ipython",
    "version": 3
   },
   "file_extension": ".py",
   "mimetype": "text/x-python",
   "name": "python",
   "nbconvert_exporter": "python",
   "pygments_lexer": "ipython3",
   "version": "3.11.4"
  },
  "orig_nbformat": 4
 },
 "nbformat": 4,
 "nbformat_minor": 2
}
