{
 "cells": [
  {
   "cell_type": "markdown",
   "metadata": {},
   "source": [
    "---\n",
    "layout: post\n",
    "title: Week 2 plans\n",
    "description: Get ready for the next live review and work on Polydragon. \n",
    "author: Hayden Chen\n",
    "toc: true\n",
    "comments: true\n",
    "categories: [5.A, C4.1]\n",
    "courses: { compsci: {week: 2} }\n",
    "type: plans\n",
    "---"
   ]
  },
  {
   "cell_type": "markdown",
   "metadata": {},
   "source": [
    "## Mon 8/28\n",
    "\n",
    "Import theme after collaborating with Shuban. Will be hacker-theme related but with different color scheme. Will be very fire\n",
    "\n",
    "## Tues 8/29\n",
    "\n",
    "Update the new CompSci notebook (new layout) with all the hacks from weeks 0 and 1, through this week. Make new ipynb and md files.\n",
    "\n",
    "## Wed 8/30\n",
    "\n",
    "Finish copying the Game of Life and Calculator from teacher CSA repo. Have to start editing Calculator to include more functionality.\n",
    "\n",
    "Prepare for the live review. Write a script and make sure to know what I'm talking about. \n",
    "\n",
    "## Thurs 8/31\n",
    "\n",
    "Learn some Python tricks. Go thru hacks on nighthawk website and make sure to tidy up the Calculator\n",
    "\n",
    "## Fri 8/32\n",
    "\n",
    "Wait how many days does August have...\n",
    "\n",
    "Learn about JS IO and JSquery"
   ]
  }
 ],
 "metadata": {
  "language_info": {
   "name": "python"
  },
  "orig_nbformat": 4
 },
 "nbformat": 4,
 "nbformat_minor": 2
}
