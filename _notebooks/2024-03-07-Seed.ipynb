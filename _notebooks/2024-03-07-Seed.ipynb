{
 "cells": [
  {
   "cell_type": "markdown",
   "metadata": {},
   "source": [
    "---\n",
    "toc: false\n",
    "comments: true\n",
    "layout: post\n",
    "title: Seeeed Individual\n",
    "description: Individual\n",
    "type: tangibles\n",
    "courses: { compsci: {week: 25} }\n",
    "---"
   ]
  },
  {
   "cell_type": "markdown",
   "metadata": {},
   "source": [
    "Met Grade Requirement for 93%+ last trimester\n",
    "# Key Commits (last trimester)\n",
    "\n",
    "## Search Table commits\n",
    "\n",
    "[Backbone JS + HTML for searchpage](https://github.com/iwu78/CPT/commit/a39209a8b7e2a4cd71b728ead5f3baa9940f924d)\n",
    "\n",
    "[Made functions to get designs](https://github.com/iwu78/CPT/commit/48b911044b4f3e40502a9518aeb3c4ec58746856)\n",
    "\n",
    "[Search keyword functionality implemented](https://github.com/iwu78/CPT/commit/f90a9410714988c455c6acc727ae0b65cd0451ad)\n",
    "\n",
    "[Fixed things that were overwriting search algorithm](https://github.com/iwu78/CPT/commit/550e4152749af0fce25ed046e4d53a5facb3c12a)\n",
    "\n",
    "## Homepage commit\n",
    "\n",
    "[Link functionality to signup](https://github.com/iwu78/CPT/commit/d08bc64aeb5356e573b34a6a27d1969092cc26fa)\n",
    "\n",
    "# CPT Project Feature\n",
    "\n",
    "Search function frontend call to backend, takes search keyword from user \n",
    "Frontpage CSS + styling\n",
    "\n",
    "# Next Steps\n",
    "\n",
    "Debug the search function so that users don't have to search twice (it reloads the first time you search anything)\n",
    "\n",
    "at the bottom are links to my commits. demonstrate working with team, and show how each person contributed a fair amount and finished their portion + good teamwork.\n",
    "\n",
    "github analytics on here:\n",
    "https://github.com/iwu78/CPT/graphs/contributors \n",
    "\n",
    "[![Screenshot-2024-03-07-at-10-55-00-PM.png](https://i.postimg.cc/s2TVZzrQ/Screenshot-2024-03-07-at-10-55-00-PM.png)](https://postimg.cc/f30466kD)\n",
    "\n",
    "I will be working with my pair Andrew Kim this trimester (we only have 2 people). Since we are the only non-triangle group in the class, we will have to adapt and establish our roles accordingly. I will focused on the backend with the dataset and models/functions, while Andrew focuses on importing a good theme for the frontend and making user input. We will figure out together what our ML project should be on and search for a database together. If we need help, Ian \"Sensei\" Wu can be our 2.5th member and we can also get assistance from crossover group (Ian, Harkirat, Shubhay)."
   ]
  }
 ],
 "metadata": {
  "language_info": {
   "name": "python"
  },
  "orig_nbformat": 4
 },
 "nbformat": 4,
 "nbformat_minor": 2
}
