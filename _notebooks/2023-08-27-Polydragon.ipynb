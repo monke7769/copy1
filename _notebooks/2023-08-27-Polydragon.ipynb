{
 "cells": [
  {
   "cell_type": "markdown",
   "metadata": {},
   "source": [
    "---\n",
    "layout: post\n",
    "title: Polydragon\n",
    "description: Made a program to calculate the area of a regular polygon with n sides. Complete with comprehensive comments\n",
    "author: Shuban Pal, Hayden Chen\n",
    "toc: true\n",
    "comments: true\n",
    "categories: [5.A, C4.1]\n",
    "courses: { compsci: {week: 1} }\n",
    "---"
   ]
  },
  {
   "cell_type": "markdown",
   "metadata": {},
   "source": [
    "On Github repo!!\n",
    "[Polydragon](https://github.com/shuban-789/Polydragon)"
   ]
  },
  {
   "cell_type": "code",
   "execution_count": null,
   "metadata": {},
   "outputs": [],
   "source": [
    "import math # math function required for pi exactness and trig functions\n",
    "\n",
    "# in the program, we have sl = sidelength, ap = apothem (center to side), rd = radius (center to vertex)\n",
    "def perimeter(sides, measure, option):\n",
    "  perimeter = 'You did not provide the condition (sl/ap/rd)' # don't calculate if no correct condition is given\n",
    "  if option == \"sl\":\n",
    "    perimeter = (sides * measure) # calculate perimeter from sidelength\n",
    "  if option == \"ap\":\n",
    "    perimeter = (2*measure*sides*math.tan(math.pi/sides)) # perimeter from apothem. tangent to get sidelength\n",
    "  if option == \"rd\":\n",
    "    perimeter = (2*measure*sides*math.sin(math.pi/sides)) # perimeter from radius. sine to get sidelength\n",
    "  return perimeter\n",
    "\n",
    "def area(sides, measure, option):\n",
    "  area = 'You did not provide the condition (sl/ap/rd)'\n",
    "  if option == \"sl\":\n",
    "    area = (sides * (measure**2)) / (4*math.tan(math.pi/sides)) # calculate area from sidelength, tangent to get apothem\n",
    "  if option == \"ap\":\n",
    "    area = ((sides * (measure**2))*(math.tan(math.pi/sides))) # calculate area from apothem, tangent to get sidelength\n",
    "  if option == \"rd\":\n",
    "    area = ((sides * (measure**2))*(math.sin((2*math.pi)/sides)))/2 # calculate area from radius, using sine double angle formula to simplify sidelength*apothem\n",
    "  return area\n",
    "  \n",
    "sidenum = int(input(\"Enter number of sides > \"))\n",
    "opt = input(\"What will you be giving? (sl/ap/rd) > \")\n",
    "m = float(input(\"What is the length of that variable? > \")) # float to include possibly decimal inputs for lengths\n",
    "print(\"Perimeter: \" + str(perimeter(sidenum, m, opt)))\n",
    "print(\"Area: \" + str(area(sidenum, m, opt)))"
   ]
  }
 ],
 "metadata": {
  "kernelspec": {
   "display_name": "Python 3",
   "language": "python",
   "name": "python3"
  },
  "language_info": {
   "codemirror_mode": {
    "name": "ipython",
    "version": 3
   },
   "file_extension": ".py",
   "mimetype": "text/x-python",
   "name": "python",
   "nbconvert_exporter": "python",
   "pygments_lexer": "ipython3",
   "version": "3.11.4"
  },
  "orig_nbformat": 4
 },
 "nbformat": 4,
 "nbformat_minor": 2
}
