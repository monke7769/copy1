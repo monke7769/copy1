{
 "cells": [
  {
   "cell_type": "markdown",
   "metadata": {},
   "source": [
    "---\n",
    "layout: post\n",
    "title: 3.12 & 3.13 homework\n",
    "description: Developing Procedures\n",
    "comments: true\n",
    "permalink: /312313\n",
    "author: Hayden Chen\n",
    "courses: { compsci: {week: 10} }\n",
    "type: tangibles\n",
    "---"
   ]
  },
  {
   "cell_type": "code",
   "execution_count": 10,
   "metadata": {},
   "outputs": [
    {
     "name": "stdout",
     "output_type": "stream",
     "text": [
      "2.322924510195928\n"
     ]
    }
   ],
   "source": [
    "def sqrt(x):\n",
    "    value = x**(1/2)\n",
    "    return value\n",
    "print(sqrt(sqrt(sqrt(sqrt(718723)))))"
   ]
  },
  {
   "cell_type": "code",
   "execution_count": 5,
   "metadata": {},
   "outputs": [
    {
     "name": "stdout",
     "output_type": "stream",
     "text": [
      "4*1=4\n",
      "4*2=8\n",
      "4*3=12\n",
      "4*4=16\n",
      "4*5=20\n",
      "4*6=24\n",
      "4*7=28\n"
     ]
    }
   ],
   "source": [
    "n = int(input())\n",
    "l = int(input())\n",
    "def multiplicationtable(x,limit):\n",
    "    for i in range(1,limit+1):\n",
    "        print(str(x)+\"*\"+str(i)+\"=\"+str(x*i))\n",
    "        \n",
    "multiplicationtable(n,l)"
   ]
  },
  {
   "cell_type": "markdown",
   "metadata": {},
   "source": [
    "HW\n",
    "\n",
    "Problem 1\n",
    "\n",
    "Procedural Abstraction\n",
    "This code contains three procedures"
   ]
  },
  {
   "cell_type": "code",
   "execution_count": 40,
   "metadata": {},
   "outputs": [
    {
     "name": "stdout",
     "output_type": "stream",
     "text": [
      "You entered: \n",
      "['93', '05', '94', 'o', 'bob', 'hahaha', '82.3', '99.4', '104', 'no']\n",
      "The grades after deleting non-number elements: \n",
      "[93, 5, 94, 82.3, 99.4, 104]\n",
      "The average grade is 79.61666666666667\n"
     ]
    }
   ],
   "source": [
    "def takeinput(): # takes input from user\n",
    "    li = []\n",
    "    while True:\n",
    "        i = input()\n",
    "        li.append(i)\n",
    "        if i.lower() == 'no': # break with 'no' string entered\n",
    "            break\n",
    "    return li\n",
    "        \n",
    "def cleanlist(mylist): # clean up the list, delete all non-number elements\n",
    "    cleaned = []\n",
    "    for i in mylist:\n",
    "        if '.' in i: # if it might be a float\n",
    "            try: # try/catch to attempt conversion from string to float\n",
    "                cleaned.append(float(i))\n",
    "            except:\n",
    "                pass\n",
    "        else: # if there's no '.' in the element\n",
    "            try:\n",
    "                cleaned.append(int(i))\n",
    "            except:\n",
    "                pass\n",
    "    return cleaned\n",
    "\n",
    "def takeavg(mylist): # calculate the average of the cleaned list with only numeric elements\n",
    "    s = sum(mylist)\n",
    "    ave = s/len(mylist)\n",
    "    return ave\n",
    "\n",
    "grades = takeinput()\n",
    "cleangrades = cleanlist(grades)\n",
    "avg_grade = takeavg(cleangrades)\n",
    "print(\"You entered: \")\n",
    "print(grades)\n",
    "print(\"The grades after deleting non-number elements: \")\n",
    "print(cleangrades)\n",
    "print(\"The average grade is \"+str(avg_grade))"
   ]
  },
  {
   "cell_type": "markdown",
   "metadata": {},
   "source": [
    "Problem 2\n",
    "summing_machine"
   ]
  },
  {
   "cell_type": "code",
   "execution_count": 41,
   "metadata": {},
   "outputs": [
    {
     "name": "stdout",
     "output_type": "stream",
     "text": [
      "12\n"
     ]
    }
   ],
   "source": [
    "def summing_machine(first_number,second_number): # ridiculously long variable names\n",
    "    return first_number+second_number\n",
    "a = 7\n",
    "b = 5\n",
    "result = summing_machine(a,b)\n",
    "print(result)"
   ]
  }
 ],
 "metadata": {
  "kernelspec": {
   "display_name": "Python 3",
   "language": "python",
   "name": "python3"
  },
  "language_info": {
   "codemirror_mode": {
    "name": "ipython",
    "version": 3
   },
   "file_extension": ".py",
   "mimetype": "text/x-python",
   "name": "python",
   "nbconvert_exporter": "python",
   "pygments_lexer": "ipython3",
   "version": "3.11.4"
  },
  "orig_nbformat": 4
 },
 "nbformat": 4,
 "nbformat_minor": 2
}
