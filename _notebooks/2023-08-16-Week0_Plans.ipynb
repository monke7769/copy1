{
 "cells": [
  {
   "cell_type": "markdown",
   "metadata": {},
   "source": [
    "---\n",
    "layout: post\n",
    "title: Week 0 plans\n",
    "description: Set up all VSCode and Github pages !!\n",
    "author: Hayden Chen\n",
    "toc: true\n",
    "comments: true\n",
    "categories: [5.A, C4.1]\n",
    "courses: { compsci: {week: 0} }\n",
    "type: plans\n",
    "---"
   ]
  },
  {
   "cell_type": "markdown",
   "metadata": {},
   "source": [
    "Wednesday: Choose pair (Shuban Pal)\n",
    "Thursday: Overview of tools and get acquainted with Jupyter Notebook, Makefile and the like\n",
    "Friday: Get Github Pages set up and the website to run on localhost, install VSCode"
   ]
  }
 ],
 "metadata": {
  "language_info": {
   "name": "python"
  },
  "orig_nbformat": 4
 },
 "nbformat": 4,
 "nbformat_minor": 2
}
