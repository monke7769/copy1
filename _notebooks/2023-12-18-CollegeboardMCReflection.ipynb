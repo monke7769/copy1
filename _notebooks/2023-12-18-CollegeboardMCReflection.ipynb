{
 "cells": [
  {
   "cell_type": "markdown",
   "metadata": {},
   "source": [
    "---\n",
    "toc: true\n",
    "comments: true\n",
    "layout: post\n",
    "title: Collegeboard MC Reflection\n",
    "description: Learning and blogging for Collegeboard 67 question MC quiz\n",
    "type: tangibles\n",
    "courses: { compsci: {week: 16} }\n",
    "---"
   ]
  },
  {
   "cell_type": "markdown",
   "metadata": {},
   "source": [
    "Score: 67/67\n",
    "## Reflection:\n",
    "To prepare for this MC Quiz, I mostly reviewed student teaching lessons since they were very useful in providing information about all the topics, especially those from Big Ideas 4 and 5 which were lesson programming-based and more real-world applications (loose bits about computing in general). I also googled information about topics from the student lessons that I felt they didn't spend too much time going over.\n",
    "\n",
    "As I come from an algorithmic coding background, the Collegeboard Pseudocode/algorithm questions were not too challenging for me. I felt like they just required a bit of thinking and logic. I found that the best strategy for those kinds of questions was to map out the algorithms on the paper, or perhaps use fingers to trace whatever is on the screen (in the case of robot problems).\n",
    "\n",
    "The most challenging types of problems were ones that dealt with the technical details of how the internet and information transfer worked. Even though I answered all of them correctly this time around, I think I have to work on trying to memorize such information otherwise I will never be completely comfortable with these types of questions. I should probably start by watching the Collegeboard videos on such topics and taking notes so I can review and familiarize before the AP test next May.\n",
    "\n",
    "## Questions I found confusing:\n",
    "\n",
    "Looking back at the results, these were the problems that I spent the most time on:\n",
    "### 13\n",
    "A library system contains information for each book that was borrowed. Each time a person borrows or returns a book from the library, the following information is recorded in a database.\n",
    "\n",
    "- Name and the unique ID number of the person who was borrowing the book\n",
    "- Author, title, and the unique ID number of the book that was borrowed\n",
    "- Date that the book was borrowed\n",
    "- Date that the book was due to be returned\n",
    "- Date that the book was returned (or 0 if the book has not been returned yet)\n",
    "\n",
    "Which of the following CANNOT be determined from the information collected by the system?\n",
    "\n",
    "Answer: (B) The total number of books that were never borrowed in a given year\n",
    "\n",
    "My explanation: The database contains information only for books that were borrowed. One cannot glean any information about books that weren't borrowed, and thus the total number of books never borrowed in a year cannot be counted.\n",
    "\n",
    "Why I thought it was confusing: For whatever weird reason, I thought at first that the library database contained information about all the books, even though it wasn't stated in the problem. So I should read and consider carefully next time.\n",
    "\n",
    "### 60\n",
    "Consider two lists of numbers called list1 and list2. A programmer wants to determine how many different values appear in both lists. For example, if list1 contains [10, 10, 20, 30, 40, 50, 60] and list2 contains [20, 20, 40, 60, 80], then there are three different values that appear in both lists (20, 40, and 60).\n",
    "\n",
    "The programmer has the following procedures available.\n",
    "\n",
    "![e](https://i.ibb.co/FhTyxZj/Image-12-22-23-at-6-25-PM.jpg)\n",
    "\n",
    "Which of the following can be used to assign the intended value to count?\n",
    "\n",
    "Answer: (D)\n",
    "\n",
    "My explanation: newList1 and newList2 have the duplicates in each list removed. Combining them will give a list with all the different elements, and the numbers that appear in both original lists will appear exactly twice in the bothList. So uniqueList can be made, and the difference in length between uniqueList and bothList is exactly the number of distinct elements that appear in both lists.\n",
    "\n",
    "Why I thought it was confusing: I spent a lot of time going through each of the algorithms in the answer choices to figure out what they were doing and if they were correct. I did get the answer but it took over 5 minutes. Next time, I'm going to just plug in the two example lists that they give and run through each to see if they produce the correct answer. Or, I could glance at the answers first and try to formulate an algorithm on my own to produce the desired output (still quicker than going through all four answer choices).\n",
    "\n",
    "## Notes:\n",
    "A citizen science example is where the general public, or distributed individuals, participates in scientific research and contributes. People aorund the world can report their observations and gather data. This is more efficient for tasks that don't require much expertise to carry out.\n",
    "\n",
    "An overflow error may occur when the result of an arithmetic operation is outside the range that the language can display."
   ]
  }
 ],
 "metadata": {
  "language_info": {
   "name": "python"
  },
  "orig_nbformat": 4
 },
 "nbformat": 4,
 "nbformat_minor": 2
}
