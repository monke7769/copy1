{
 "cells": [
  {
   "cell_type": "markdown",
   "metadata": {},
   "source": [
    "---\n",
    "comments: true\n",
    "layout: post\n",
    "title: CPT Project Documentation\n",
    "description: for AP Collegeboard Requirements\n",
    "type: tangibles\n",
    "courses: { compsci: {week: 29} }\n",
    "---"
   ]
  },
  {
   "cell_type": "markdown",
   "metadata": {},
   "source": [
    "# /model/concussion.py"
   ]
  },
  {
   "cell_type": "code",
   "execution_count": 10,
   "metadata": {},
   "outputs": [
    {
     "name": "stdout",
     "output_type": "stream",
     "text": [
      "10.526551391730155\n"
     ]
    }
   ],
   "source": [
    "# import all necessary packages for machine learning\n",
    "# numpy to handle the returned result and convert into usable list format\n",
    "import numpy as np\n",
    "# need to be able to split up data into training and testing sets\n",
    "from sklearn.model_selection import train_test_split\n",
    "# training with linear regression model as data is continuous, not discrete\n",
    "from sklearn.linear_model import LinearRegression\n",
    "# python pandas package\n",
    "# need pandas for dataframe and easy data manipulation\n",
    "import pandas as pd\n",
    "\n",
    "# Define the concussion_regression global variable\n",
    "concussion_regression = None\n",
    "\n",
    "# define the ConcussionRegression class\n",
    "# we are using OOP here\n",
    "class ConcussionRegression:\n",
    "    # below are the separate functions to handle various events in the prediction\n",
    "    # initConcussion will take the generated sample data from the CSV file\n",
    "    # then it will clean data by removing all negative values\n",
    "    def initConcussion(self):\n",
    "        # load in the csv data\n",
    "        concussion_data = pd.read_csv('concussion_recovery_data.csv')\n",
    "        '''\n",
    "        Categories in the CSV file: sex,age,ht,wt,smoke,alcohol,sleephrs,exercisehrs,hitbox,healtime\n",
    "        sex is boolean, 1=male 0=female\n",
    "        ht = height (cm)\n",
    "        wt = weight (kg)\n",
    "        smoke/alcohol are boolean, 1=yes 0=no\n",
    "        sleephrs are per night\n",
    "        exercisehrs are per week\n",
    "        hitbox = size of object hit, in kg\n",
    "        healtime is in days\n",
    "        '''\n",
    "        global cd\n",
    "        # now variable cd has all the data\n",
    "        cd = concussion_data\n",
    "        categories = ['age', 'ht', 'wt', 'sleephrs', 'exercisehrs', 'hitbox', 'healtime']\n",
    "        # clean up the data\n",
    "        # for non-boolean categories, drop all negative values\n",
    "        for cat in categories:\n",
    "            cd.drop(cd[cd[cat] < 0].index, inplace=True)\n",
    "    \n",
    "    # runLinearRegression trains the model according to linear regression\n",
    "    # the model will be trained to predict healtime based on the other categories\n",
    "    def runLinearRegression(self):\n",
    "        # making a linear regression model\n",
    "        X = cd.drop('healtime', axis=1) # all categories except healtime (result)\n",
    "        y = cd['healtime'] # healtime (the result)\n",
    "        # split up data into training and testing sets\n",
    "        X_train, X_test, y_train, y_test = train_test_split(X, y, test_size=0.3, random_state=42)\n",
    "        global lr\n",
    "        # train the model\n",
    "        lr = LinearRegression()\n",
    "        lr.fit(X_train, y_train)\n",
    "        \n",
    "def predict(data):\n",
    "    new_case = data.copy() # copy in the data from frontend\n",
    "    '''\n",
    "    format of the input:\n",
    "    new_case = {\n",
    "            'name': case.get('name'),\n",
    "            'sex': case.get('sex'),\n",
    "            'ht': case.get('ht'),\n",
    "            'wt': case.get('wt'),\n",
    "            'smoke': case.get('smoke'),\n",
    "            'alcohol': case.get('alcohol'),\n",
    "            'sleephrs': case.get('sleephrs'),\n",
    "            'exercisehrs': case.get('exercisehrs'),\n",
    "            'hitbox': case.get('hitbox'),\n",
    "        }\n",
    "    '''\n",
    "    # convert frontend data to usable format\n",
    "    # sex converted to boolean and name doesn't matter\n",
    "    new_case['sex'] = new_case['sex'].apply(lambda x: 1 if x == 'male' else 0)\n",
    "    new_case.drop(['name'], axis=1, inplace=True)\n",
    "    # predict time to heal\n",
    "    # need to convert to list since numpy arrays are not directly serializable to JSON\n",
    "    healtime = np.squeeze(lr.predict(new_case)).tolist() # use numpy and .tolist()\n",
    "    # print(healtime)\n",
    "    return healtime\n",
    "\n",
    "def initConcussion():\n",
    "    # initiate the concussion regression model\n",
    "    # then run linear regression\n",
    "    global concussion_regression\n",
    "    concussion_regression = ConcussionRegression()\n",
    "    concussion_regression.initConcussion()\n",
    "    concussion_regression.runLinearRegression()\n",
    "    \n",
    "# test the model\n",
    "if __name__ == \"__main__\":\n",
    "    # initialize concussion model\n",
    "    initConcussion()\n",
    "    # test data on partner\n",
    "    patient_data = pd.DataFrame({\n",
    "        'name': ['Andrew Kim'],\n",
    "        'sex': ['male'],\n",
    "        'age': [16],\n",
    "        'ht': [180],\n",
    "        'wt': [73],\n",
    "        'smoke': [0],\n",
    "        'alcohol': [1],\n",
    "        'sleephrs': [8.5],\n",
    "        'exercisehrs': [5.5],\n",
    "        'hitbox': [0.28],\n",
    "    })\n",
    "    print(predict(patient_data))"
   ]
  },
  {
   "cell_type": "markdown",
   "metadata": {},
   "source": [
    "# /api/model.py"
   ]
  },
  {
   "cell_type": "markdown",
   "metadata": {},
   "source": [
    "# main.py\n",
    "(use only snippets)"
   ]
  },
  {
   "cell_type": "code",
   "execution_count": null,
   "metadata": {},
   "outputs": [],
   "source": [
    "## insert frontend .html file if needed + make commets"
   ]
  }
 ],
 "metadata": {
  "kernelspec": {
   "display_name": "Python 3",
   "language": "python",
   "name": "python3"
  },
  "language_info": {
   "codemirror_mode": {
    "name": "ipython",
    "version": 3
   },
   "file_extension": ".py",
   "mimetype": "text/x-python",
   "name": "python",
   "nbconvert_exporter": "python",
   "pygments_lexer": "ipython3",
   "version": "3.11.7"
  },
  "orig_nbformat": 4
 },
 "nbformat": 4,
 "nbformat_minor": 2
}
