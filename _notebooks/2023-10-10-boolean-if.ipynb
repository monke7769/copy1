{
 "cells": [
  {
   "cell_type": "markdown",
   "metadata": {},
   "source": [
    "---\n",
    "layout: post\n",
    "title: 3.5 & 3.6 homework\n",
    "description: Boolean/If HW\n",
    "comments: true\n",
    "permalink: /3536\n",
    "author: Hayden Chen\n",
    "courses: { compsci: {week: 8} }\n",
    "type: tangibles\n",
    "---"
   ]
  },
  {
   "cell_type": "code",
   "execution_count": null,
   "metadata": {},
   "outputs": [],
   "source": [
    "# Problem 1\n",
    "isCitizen = input(\"Are you a citizen? (yes/no) \").lower() # get user input on whether they are a citizen or not\n",
    "if isCitizen == 'yes': # == operator\n",
    "    age = int(input(\"How old are you?\")) # is citizen, get age as int\n",
    "    if age >= 18: # >= operator\n",
    "        print(\"Nice, you can vote.\")\n",
    "    else: # younger than 18\n",
    "        print(\"ur a minor bruh\")\n",
    "else: # definitely a mexican\n",
    "    print(\"dId yOu JuSt jUmP oVEr ThE bOrDeR??\")"
   ]
  },
  {
   "cell_type": "markdown",
   "metadata": {},
   "source": [
    "- "
   ]
  },
  {
   "cell_type": "code",
   "execution_count": null,
   "metadata": {},
   "outputs": [],
   "source": [
    "# Problem 2\n",
    "years = float(input(\"How long have you worked here? \")) # input years worked as float\n",
    "if years > 5: # has to have worked over 5 years\n",
    "    salary = float(input(\"What's your salary now? \")) # get user salary now\n",
    "    bonus = salary*0.05 # employee gets 5% (+0.05x) bonus\n",
    "    rounded = round(bonus,2) # round to two decimal point figures (cents)\n",
    "    print(\"For your longtime loyalty, we're giving you a bonus of $\"+str(rounded))\n",
    "else:\n",
    "    print(\"GET BACK TO WORK OR I'LL HAVE YOU FIRED FOR INCOMPETENCY\")"
   ]
  },
  {
   "cell_type": "markdown",
   "metadata": {},
   "source": [
    "-        "
   ]
  },
  {
   "cell_type": "code",
   "execution_count": null,
   "metadata": {},
   "outputs": [],
   "source": [
    "# Problem 3\n",
    "marks = float(input(\"Enter your marks: \")) # input the grade as float\n",
    "if marks < 25:\n",
    "    grade = 'F'\n",
    "elif 25 <= marks < 45:\n",
    "    grade = 'E' # what the heck\n",
    "elif 45 <= marks < 50:\n",
    "    grade = 'D'\n",
    "elif 50 <= marks < 60:\n",
    "    grade = 'C'\n",
    "elif 60 <= marks < 80:\n",
    "    grade = 'B'\n",
    "elif marks >= 80:\n",
    "    grade = 'A'\n",
    "print(\"Your grade is: \"+grade+\".\")"
   ]
  }
 ],
 "metadata": {
  "kernelspec": {
   "display_name": "Python 3",
   "language": "python",
   "name": "python3"
  },
  "language_info": {
   "codemirror_mode": {
    "name": "ipython",
    "version": 3
   },
   "file_extension": ".py",
   "mimetype": "text/x-python",
   "name": "python",
   "nbconvert_exporter": "python",
   "pygments_lexer": "ipython3",
   "version": "3.11.4"
  },
  "orig_nbformat": 4
 },
 "nbformat": 4,
 "nbformat_minor": 2
}
