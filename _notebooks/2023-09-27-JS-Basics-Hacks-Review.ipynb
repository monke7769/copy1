{
 "cells": [
  {
   "cell_type": "markdown",
   "metadata": {},
   "source": [
    "---\n",
    "layout: post\n",
    "title: Web Programming Basics Test\n",
    "description: Review Ticket for all JS/HTML/DOM hacks\n",
    "type: tangibles\n",
    "comments: true\n",
    "permalink: js-ticket\n",
    "author: Hayden Chen\n",
    "courses: { compsci: {week: 5} }\n",
    "---"
   ]
  },
  {
   "cell_type": "markdown",
   "metadata": {},
   "source": [
    "## Peer Evaluation\n",
    "\n",
    "Shuban Pal: Every hack seems to be here and completes all the requirements of the hack. The clicking game was exquisite. Solid 3.9/4"
   ]
  },
  {
   "cell_type": "markdown",
   "metadata": {},
   "source": [
    "## Review Ticket\n",
    "\n",
    "### BASICS OF HTML GUIDE - 0.5/0.5\n",
    "\n",
    "show the wireframe image and the code underneath. explain the different code tags\n",
    "\n",
    "### BASICS OF JAVASCRIPT - 0.5/0.5\n",
    "\n",
    "show the code comparing a and b variables. explain the purpose of console.log and if statements\n",
    "\n",
    "### JAVASCRIPT DATA TYPES - 0.5/0.5\n",
    "\n",
    "explain the \"me\" object with all of my personal stats and facts.\n",
    "show the modification of arrays within the object\n",
    "show arithmetic operation (+1) to the age item\n",
    "show how typeof displays each item's type\n",
    "\n",
    "### USING JS WITH HTML DOM - 0.5/0.5\n",
    "\n",
    "show the copied code from the wireframe section, including the clicking button\n",
    "show the clickedButton() function\n",
    "- show the process to get the links\n",
    "- show the process to swap the href links and change top p tag\n",
    "\n",
    "### CORRECTING JS ERRORS - 0.5/0.5\n",
    "\n",
    "show code segments 1, 2, 3 and their issues\n",
    "show how they were fixed\n",
    "show the BELOW NOT EDITED section and how I also fixed that section.\n",
    "\n",
    "### ALL DIFFERENT NOTEBOOKS - 1.0/1.0\n",
    "\n",
    "all different notebooks are complete and cells are working within VSCode OR on the console in Google Chrome browser\n",
    "Review (Austin Zhang) has posted his comments on each individual notebook page with the Utterances plugin\n",
    "\n",
    "### SUMMARY REVIEW TICKET - 0.5/0.5\n",
    "\n",
    "has been made. 4/4"
   ]
  }
 ],
 "metadata": {
  "language_info": {
   "name": "python"
  },
  "orig_nbformat": 4
 },
 "nbformat": 4,
 "nbformat_minor": 2
}
