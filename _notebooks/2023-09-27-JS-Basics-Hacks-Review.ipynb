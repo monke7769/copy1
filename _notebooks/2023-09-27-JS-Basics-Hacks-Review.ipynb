{
 "cells": [
  {
   "cell_type": "markdown",
   "metadata": {},
   "source": [
    "---\n",
    "layout: post\n",
    "title: Web Programming Basics Test\n",
    "description: Review Ticket for all JS/HTML/DOM hacks\n",
    "type: tangibles\n",
    "author: Hayden Chen\n",
    "courses: { compsci: {week: 5} }\n",
    "---"
   ]
  },
  {
   "cell_type": "markdown",
   "metadata": {},
   "source": [
    "## Review Ticket\n",
    "\n",
    "### BASICS OF HTML GUIDE\n",
    "\n",
    "show the wireframe image and the code underneath. explain the different code tags\n",
    "\n",
    "### BASICS OF JAVASCRIPT\n",
    "\n",
    "show the code comparing a and b variables. explain the purpose of console.log and if statements\n",
    "\n",
    "### JAVASCRIPT DATA TYPES\n",
    "\n",
    "explain the \"me\" object with all of my personal stats and facts.\n",
    "show the modification of arrays within the object\n",
    "show arithmetic operation (+1) to the age item\n",
    "show how typeof displays each item's type\n",
    "\n",
    "### USING JS WITH HTML DOM\n",
    "\n",
    "show the copied code from the wireframe section, including the clicking button\n",
    "show the clickedButton() function\n",
    "- show the process to get the links\n",
    "- show the process to swap the href links and change top p tag\n",
    "\n",
    "### CORRECTING JS ERRORS\n",
    "\n",
    "show code segments 1, 2, 3 and their issues\n",
    "show how they were fixed\n",
    "show the BELOW NOT EDITED section and how I also fixed that section."
   ]
  }
 ],
 "metadata": {
  "language_info": {
   "name": "python"
  },
  "orig_nbformat": 4
 },
 "nbformat": 4,
 "nbformat_minor": 2
}
