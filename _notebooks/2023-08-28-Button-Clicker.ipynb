{
 "cells": [
  {
   "cell_type": "markdown",
   "metadata": {},
   "source": [
    "---\n",
    "layout: post\n",
    "title: Place where you click the button (TM)\n",
    "description: A fun web game\n",
    "type: tangibles\n",
    "permalink: /buttonclick\n",
    "author: Hayden Chen\n",
    "courses: { compsci: {week: 5} }\n",
    "---"
   ]
  },
  {
   "cell_type": "code",
   "execution_count": 20,
   "metadata": {},
   "outputs": [
    {
     "data": {
      "text/html": [
       "<div id=\"firstSection\">\n",
       "    <h1>Click as much as you can before someone hits ctrl-R on you</h1>\n",
       "    <p id=\"firstText\">Click the button!</p>\n",
       "    <button id=\"button1\">CLICK ME!!</button>\n",
       "    <p id=\"count\">0</p>\n",
       "</div>\n",
       "\n",
       "<script>\n",
       "function clickedButton() {\n",
       "    var firsthref = document.getElementById(\"firstText\")\n",
       "    firstText.innerHTML = \"Keep clicking it!\"\n",
       "    var num = document.getElementById(\"count\")\n",
       "    num.innerHTML = String(parseInt(num.innerHTML)+1)\n",
       "}\n",
       "var thebutton = document.getElementById(\"button1\")\n",
       "thebutton.onclick = clickedButton // on click, call the above function\n",
       "</script>\n"
      ],
      "text/plain": [
       "<IPython.core.display.HTML object>"
      ]
     },
     "metadata": {},
     "output_type": "display_data"
    }
   ],
   "source": [
    "%%html\n",
    "<div id=\"firstSection\">\n",
    "    <h1>Click as much as you can before someone hits ctrl-R on you</h1>\n",
    "    <p id=\"firstText\">Click the button!</p>\n",
    "    <button id=\"button1\">CLICK ME!!</button>\n",
    "    <p id=\"count\">0</p>\n",
    "</div>\n",
    "\n",
    "<script>\n",
    "function clickedButton() {\n",
    "    var firsthref = document.getElementById(\"firstText\")\n",
    "    firstText.innerHTML = \"Keep clicking it!\"\n",
    "    var num = document.getElementById(\"count\")\n",
    "    num.innerHTML = String(parseInt(num.innerHTML)+1)\n",
    "}\n",
    "var thebutton = document.getElementById(\"button1\")\n",
    "thebutton.onclick = clickedButton // on click, call the above function\n",
    "</script>"
   ]
  }
 ],
 "metadata": {
  "kernelspec": {
   "display_name": "Python 3",
   "language": "python",
   "name": "python3"
  },
  "language_info": {
   "codemirror_mode": {
    "name": "ipython",
    "version": 3
   },
   "file_extension": ".py",
   "mimetype": "text/x-python",
   "name": "python",
   "nbconvert_exporter": "python",
   "pygments_lexer": "ipython3",
   "version": "3.11.4"
  },
  "orig_nbformat": 4
 },
 "nbformat": 4,
 "nbformat_minor": 2
}
